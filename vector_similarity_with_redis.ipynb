{
  "cells": [
    {
      "attachments": {},
      "cell_type": "markdown",
      "metadata": {},
      "source": [
        "[![Open In Colab](https://colab.research.google.com/assets/colab-badge.svg)](https://colab.research.google.com/github/bsbodden/redis_vss_getting_started/blob/main/vector_similarity_with_redis.ipynb) [![Open nbviewer](https://raw.githubusercontent.com/bsbodden/redis_vss_getting_started/main/assets/nbviewer-shield.svg)](https://nbviewer.org/github/bsbodden/redis_vss_getting_started/blob/main/vector_similarity_with_redis.ipynb)"
      ]
    },
    {
      "attachments": {},
      "cell_type": "markdown",
      "metadata": {
        "id": "tsTNahuVyEuH"
      },
      "source": [
        "# Vector Similarity Search with Redis"
      ]
    },
    {
      "attachments": {},
      "cell_type": "markdown",
      "metadata": {},
      "source": [
        "## The \"Unstructured Data\" Problem"
      ]
    },
    {
      "attachments": {},
      "cell_type": "markdown",
      "metadata": {},
      "source": [
        "Today, about 80% of the data organizations generate is \"unstructured\"; data that either does not have a well-defined schema or cannot be restructured into a familiar columnar format. Typical examples of unstructured data include free-form text, images, videos, and sound clips. Moreover, this data imbalance towards unstructured data is expected to grow in the coming decades.\n",
        "\n",
        "Unstructured data is high-dimensional and noisy,    making it more challenging to analyze and interpret using traditional methods. But it is also packed with information and meaning.  \n",
        "\n",
        "Traditionally, unstructured data is processed to extract specific features, effectively turning it into structured data. Once in the realm of structured data, we can search the data with SQL queries (if stored in a relational database) or with a text search engine. \n",
        "The approach of transforming unstructured data into structured data has a few issues; first, engineering features out of structured data can be computationally expensive and error-prone, significantly delaying when we can effectively use the data. And secondly, we are likely losing fidelity and information since when unstructured data is converted to structured data, some unique or 'latent' features might be lost or overlooked because they can't be easily categorized or quantified."
      ]
    },
    {
      "attachments": {},
      "cell_type": "markdown",
      "metadata": {},
      "source": [
        "## Enter \"Vector Databases\""
      ]
    },
    {
      "attachments": {},
      "cell_type": "markdown",
      "metadata": {},
      "source": [
        "An approach to dealing with unstructured data is to \"vectorize\" such data. By \"vectorizing,\" we mean to somehow convert something like a text passage, an image, a video, or a song into a flat sequence of numbers representing a particular piece of data. These \"vectors\" are representations of the data in N-dimensional space. By vectorizing, we gain the ability to use linear algebra techniques to compare, group, and operate on our data. This is the foundation of a Vector Database, the ability to store and operate on vectors.\n",
        "This approach is not new and has been around for eons. The difference today is how the techniques for generating the vectors have advanced."
      ]
    },
    {
      "attachments": {},
      "cell_type": "markdown",
      "metadata": {},
      "source": [
        "## Using Machine Learning \"Embeddings\" as Vectors"
      ]
    },
    {
      "attachments": {},
      "cell_type": "markdown",
      "metadata": {},
      "source": [
        "Traditional methods for converting unstructured data into vector form include Bag-of-Words (BoW) and TF-IDF (Term Frequency-Inverse Document Frequency) for textual data. For categorical data, one-hot Encoding is a commonly used approach. And Hashing and Feature Extraction techniques, such as edge detection, texture analysis, or color histograms, have been employed for high-dimensionality data like images.\n",
        "\n",
        "While powerful in their own right, these approaches reveal limitations when confronted with high-dimensional and intricate data forms like long text passages, images, and audio. Consider, for example, how a text passage could be restructured—through sentence rearrangement, synonym usage, or alterations in narrative style. Such Simple modifications could effectively sidestep techniques like Bag-of-Words, preventing systems using the generated encodings from identifying texts with similar meanings.\n",
        "\n",
        "This is where advancements in Machine Learning, particularly Deep Learning, make their mark. Machine Learning models have facilitated the rise of 'embeddings' as a widely embraced method for generating dense, low-dimensional vector representations. Given a suitable model for the task at hand, the generated embeddings can encapsulate complex patterns and semantic meanings inherent in data, thus overcoming the limitations of their traditional counterparts."
      ]
    },
    {
      "attachments": {},
      "cell_type": "markdown",
      "metadata": {},
      "source": [
        "### Generating Embeddings for the \"Bikes\" Dataset\n",
        "\n",
        "To investigate Vector Similarity, we'll use a subset of the Bikes dataset, a relatively simple synthetic dataset. The dataset has 11 bicycle records in a JSON file named `bikes.json` and includes the fields `model`, `brand`, `price`, `type`, `specs`, and `description`. The `description` field is particularly interesting for our purposes since it consists of a free-form textual description of a bicycle."
      ]
    },
    {
      "attachments": {},
      "cell_type": "markdown",
      "metadata": {},
      "source": [
        "#### Loading JSON \"Bikes\" Dataset\n",
        "\n",
        "Let's load the bikes dataset as a JSON array:"
      ]
    },
    {
      "cell_type": "code",
      "execution_count": 1,
      "metadata": {},
      "outputs": [],
      "source": [
        "import requests\n",
        "import json\n",
        "\n",
        "url = 'https://raw.githubusercontent.com/bsbodden/redis_vss_getting_started/main/data/bikes.json'\n",
        "response = requests.get(url)\n",
        "bikes = json.loads(response.text)"
      ]
    },
    {
      "attachments": {},
      "cell_type": "markdown",
      "metadata": {},
      "source": [
        "#### Inspect the Bikes JSON\n",
        "\n",
        "Let's inspect the content of the JSON array in table form using the Pandas framework:"
      ]
    },
    {
      "cell_type": "code",
      "execution_count": 2,
      "metadata": {},
      "outputs": [
        {
          "name": "stdout",
          "output_type": "stream",
          "text": [
            "Note: you may need to restart the kernel to use updated packages.\n"
          ]
        },
        {
          "data": {
            "text/html": [
              "<div>\n",
              "<style scoped>\n",
              "    .dataframe tbody tr th:only-of-type {\n",
              "        vertical-align: middle;\n",
              "    }\n",
              "\n",
              "    .dataframe tbody tr th {\n",
              "        vertical-align: top;\n",
              "    }\n",
              "\n",
              "    .dataframe thead th {\n",
              "        text-align: right;\n",
              "    }\n",
              "</style>\n",
              "<table border=\"1\" class=\"dataframe\">\n",
              "  <thead>\n",
              "    <tr style=\"text-align: right;\">\n",
              "      <th></th>\n",
              "      <th>model</th>\n",
              "      <th>brand</th>\n",
              "      <th>price</th>\n",
              "      <th>type</th>\n",
              "      <th>specs</th>\n",
              "      <th>description</th>\n",
              "    </tr>\n",
              "  </thead>\n",
              "  <tbody>\n",
              "    <tr>\n",
              "      <th>0</th>\n",
              "      <td>Jigger</td>\n",
              "      <td>Velorim</td>\n",
              "      <td>270</td>\n",
              "      <td>Kids bikes</td>\n",
              "      <td>{'material': 'aluminium', 'weight': '10'}</td>\n",
              "      <td>Small and powerful, the Jigger is the best rid...</td>\n",
              "    </tr>\n",
              "    <tr>\n",
              "      <th>1</th>\n",
              "      <td>Hillcraft</td>\n",
              "      <td>Bicyk</td>\n",
              "      <td>1200</td>\n",
              "      <td>Kids Mountain Bikes</td>\n",
              "      <td>{'material': 'carbon', 'weight': '11'}</td>\n",
              "      <td>Kids want to ride with as little weight as pos...</td>\n",
              "    </tr>\n",
              "    <tr>\n",
              "      <th>2</th>\n",
              "      <td>Chook air 5</td>\n",
              "      <td>Nord</td>\n",
              "      <td>815</td>\n",
              "      <td>Kids Mountain Bikes</td>\n",
              "      <td>{'material': 'alloy', 'weight': '9.1'}</td>\n",
              "      <td>The Chook Air 5  gives kids aged six years and...</td>\n",
              "    </tr>\n",
              "    <tr>\n",
              "      <th>3</th>\n",
              "      <td>Eva 291</td>\n",
              "      <td>Eva</td>\n",
              "      <td>3400</td>\n",
              "      <td>Mountain Bikes</td>\n",
              "      <td>{'material': 'carbon', 'weight': '9.1'}</td>\n",
              "      <td>The sister company to Nord, Eva launched in 20...</td>\n",
              "    </tr>\n",
              "    <tr>\n",
              "      <th>4</th>\n",
              "      <td>Kahuna</td>\n",
              "      <td>Noka Bikes</td>\n",
              "      <td>3200</td>\n",
              "      <td>Mountain Bikes</td>\n",
              "      <td>{'material': 'alloy', 'weight': '9.8'}</td>\n",
              "      <td>Whether you want to try your hand at XC racing...</td>\n",
              "    </tr>\n",
              "    <tr>\n",
              "      <th>5</th>\n",
              "      <td>XBN 2.1 Alloy</td>\n",
              "      <td>Breakout</td>\n",
              "      <td>810</td>\n",
              "      <td>Road Bikes</td>\n",
              "      <td>{'material': 'alloy', 'weight': '7.2'}</td>\n",
              "      <td>The XBN 2.1 Alloy is our entry-level road bike...</td>\n",
              "    </tr>\n",
              "    <tr>\n",
              "      <th>6</th>\n",
              "      <td>WattBike</td>\n",
              "      <td>ScramBikes</td>\n",
              "      <td>2300</td>\n",
              "      <td>eBikes</td>\n",
              "      <td>{'material': 'alloy', 'weight': '15'}</td>\n",
              "      <td>The WattBike is the best e-bike for people who...</td>\n",
              "    </tr>\n",
              "    <tr>\n",
              "      <th>7</th>\n",
              "      <td>Soothe Electric bike</td>\n",
              "      <td>Peaknetic</td>\n",
              "      <td>1950</td>\n",
              "      <td>eBikes</td>\n",
              "      <td>{'material': 'alloy', 'weight': '14.7'}</td>\n",
              "      <td>The Soothe is an everyday electric bike, from ...</td>\n",
              "    </tr>\n",
              "    <tr>\n",
              "      <th>8</th>\n",
              "      <td>Secto</td>\n",
              "      <td>Peaknetic</td>\n",
              "      <td>430</td>\n",
              "      <td>Commuter bikes</td>\n",
              "      <td>{'material': 'aluminium', 'weight': '10.0'}</td>\n",
              "      <td>If you struggle with stiff fingers or a kinked...</td>\n",
              "    </tr>\n",
              "    <tr>\n",
              "      <th>9</th>\n",
              "      <td>Summit</td>\n",
              "      <td>nHill</td>\n",
              "      <td>1200</td>\n",
              "      <td>Mountain Bike</td>\n",
              "      <td>{'material': 'alloy', 'weight': '11.3'}</td>\n",
              "      <td>This budget mountain bike from nHill performs ...</td>\n",
              "    </tr>\n",
              "    <tr>\n",
              "      <th>10</th>\n",
              "      <td>ThrillCycle</td>\n",
              "      <td>BikeShind</td>\n",
              "      <td>815</td>\n",
              "      <td>Commuter Bikes</td>\n",
              "      <td>{'material': 'alloy', 'weight': '12.7'}</td>\n",
              "      <td>An artsy,  retro-inspired bicycle that’s as fu...</td>\n",
              "    </tr>\n",
              "  </tbody>\n",
              "</table>\n",
              "</div>"
            ],
            "text/plain": [
              "                   model       brand  price                 type  \\\n",
              "0                 Jigger     Velorim    270           Kids bikes   \n",
              "1              Hillcraft       Bicyk   1200  Kids Mountain Bikes   \n",
              "2            Chook air 5        Nord    815  Kids Mountain Bikes   \n",
              "3                Eva 291         Eva   3400       Mountain Bikes   \n",
              "4                 Kahuna  Noka Bikes   3200       Mountain Bikes   \n",
              "5          XBN 2.1 Alloy    Breakout    810           Road Bikes   \n",
              "6               WattBike  ScramBikes   2300               eBikes   \n",
              "7   Soothe Electric bike   Peaknetic   1950               eBikes   \n",
              "8                  Secto   Peaknetic    430       Commuter bikes   \n",
              "9                 Summit       nHill   1200        Mountain Bike   \n",
              "10           ThrillCycle   BikeShind    815       Commuter Bikes   \n",
              "\n",
              "                                          specs  \\\n",
              "0     {'material': 'aluminium', 'weight': '10'}   \n",
              "1        {'material': 'carbon', 'weight': '11'}   \n",
              "2        {'material': 'alloy', 'weight': '9.1'}   \n",
              "3       {'material': 'carbon', 'weight': '9.1'}   \n",
              "4        {'material': 'alloy', 'weight': '9.8'}   \n",
              "5        {'material': 'alloy', 'weight': '7.2'}   \n",
              "6         {'material': 'alloy', 'weight': '15'}   \n",
              "7       {'material': 'alloy', 'weight': '14.7'}   \n",
              "8   {'material': 'aluminium', 'weight': '10.0'}   \n",
              "9       {'material': 'alloy', 'weight': '11.3'}   \n",
              "10      {'material': 'alloy', 'weight': '12.7'}   \n",
              "\n",
              "                                          description  \n",
              "0   Small and powerful, the Jigger is the best rid...  \n",
              "1   Kids want to ride with as little weight as pos...  \n",
              "2   The Chook Air 5  gives kids aged six years and...  \n",
              "3   The sister company to Nord, Eva launched in 20...  \n",
              "4   Whether you want to try your hand at XC racing...  \n",
              "5   The XBN 2.1 Alloy is our entry-level road bike...  \n",
              "6   The WattBike is the best e-bike for people who...  \n",
              "7   The Soothe is an everyday electric bike, from ...  \n",
              "8   If you struggle with stiff fingers or a kinked...  \n",
              "9   This budget mountain bike from nHill performs ...  \n",
              "10  An artsy,  retro-inspired bicycle that’s as fu...  "
            ]
          },
          "execution_count": 2,
          "metadata": {},
          "output_type": "execute_result"
        }
      ],
      "source": [
        "%pip -q install pandas\n",
        "import pandas as pd\n",
        "\n",
        "pd.DataFrame(bikes)"
      ]
    },
    {
      "attachments": {},
      "cell_type": "markdown",
      "metadata": {},
      "source": [
        "Let's take a look at the structure of one of our bike JSON documents:"
      ]
    },
    {
      "cell_type": "code",
      "execution_count": 3,
      "metadata": {},
      "outputs": [
        {
          "name": "stdout",
          "output_type": "stream",
          "text": [
            "{\n",
            "  \"model\": \"Jigger\",\n",
            "  \"brand\": \"Velorim\",\n",
            "  \"price\": 270,\n",
            "  \"type\": \"Kids bikes\",\n",
            "  \"specs\": {\n",
            "    \"material\": \"aluminium\",\n",
            "    \"weight\": \"10\"\n",
            "  },\n",
            "  \"description\": \"Small and powerful, the Jigger is the best ride for the smallest of tikes! This is the tiniest kids\\u2019 pedal bike on the market available without a coaster brake, the Jigger is the vehicle of choice for the rare tenacious little rider raring to go. We say rare because this smokin\\u2019 little bike is not ideal for a nervous first-time rider, but it\\u2019s a true giddy up for a true speedster. The Jigger is a 12 inch lightweight kids bicycle and it will meet your little one\\u2019s need for speed. It\\u2019s a single speed bike that makes learning to pump pedals simple and intuitive. It even has  a handle in the bottom of the saddle so you can easily help your child during training!  The Jigger is among the most lightweight children\\u2019s bikes on the planet. It is designed so that 2-3 year-olds fit comfortably in a molded ride position that allows for efficient riding, balanced handling and agility. The Jigger\\u2019s frame design and gears work together so your buddingbiker can stand up out of the seat, stop rapidly, rip over trails and pump tracks. The Jigger\\u2019s is amazing on dirt or pavement. Your tike will speed down the bike path in no time. The Jigger will ship with a coaster brake. A freewheel kit is provided at no cost. \"\n",
            "}\n"
          ]
        }
      ],
      "source": [
        "print(json.dumps(bikes[0], indent=2))"
      ]
    },
    {
      "attachments": {},
      "cell_type": "markdown",
      "metadata": {},
      "source": [
        "#### Generating Text Embeddings using SentenceTransformers\n",
        "\n",
        "We will use the SentenceTransformers framework to generate embeddings for the bikes descriptions. Sentence-BERT (SBERT) is a BERT model modification that produces consistent and contextually rich sentence embeddings. SBERT improves tasks like semantic search and text grouping by allowing for efficient and meaningful comparison of sentence-level semantic similarity.\n",
        "\n",
        "Let's start by installing `sentence-transformers`:"
      ]
    },
    {
      "cell_type": "code",
      "execution_count": 4,
      "metadata": {},
      "outputs": [
        {
          "name": "stdout",
          "output_type": "stream",
          "text": [
            "Note: you may need to restart the kernel to use updated packages.\n"
          ]
        }
      ],
      "source": [
        "%pip install -U -q sentence-transformers"
      ]
    },
    {
      "attachments": {},
      "cell_type": "markdown",
      "metadata": {},
      "source": [
        "### Selecting a suitable pre-trained Model\n",
        "\n",
        "We must pick a suitable model based on the task when generating embeddings. In our case, we want to query for bicycles using short sentences against the longer bicycle descriptions. This is referred to as \"Asymmetric Semantic Search,\" often employed in cases where the search query and the documents being searched are of different nature or structure. Suitable models for asymmetric semantic search include pre-trained MS MARCO Models. MS MARCO models are trained on the Microsoft MAchine Reading COmprehension (MS MARCO) dataset, optimizing them for understanding real-world queries and retrieving relevant responses. They are widely used in search engines, chatbots, and other AI applications. At the time of this writing, the highest performing MS MARCO model tuned for cosine-similarity from SentenceTranformers is `msmarco-distilbert-base-v4`. \n",
        "\n",
        "Let's load the model using the `SentenceTranformer` function:"
      ]
    },
    {
      "cell_type": "code",
      "execution_count": null,
      "metadata": {},
      "outputs": [],
      "source": [
        "from sentence_transformers import SentenceTransformer\n",
        "\n",
        "embedder = SentenceTransformer('msmarco-distilbert-base-v4')"
      ]
    },
    {
      "attachments": {},
      "cell_type": "markdown",
      "metadata": {},
      "source": [
        "Let's grab the description from the first bike in the JSON array:"
      ]
    },
    {
      "cell_type": "code",
      "execution_count": 6,
      "metadata": {},
      "outputs": [
        {
          "data": {
            "text/plain": [
              "['Small and powerful, the Jigger is the best ride for the smallest of tikes! This is the tiniest kids’ pedal bike on the',\n",
              " 'market available without a coaster brake, the Jigger is the vehicle of choice for the rare tenacious little rider raring',\n",
              " 'to go. We say rare because this smokin’ little bike is not ideal for a nervous first-time rider, but it’s a true giddy',\n",
              " 'up for a true speedster. The Jigger is a 12 inch lightweight kids bicycle and it will meet your little one’s need for',\n",
              " 'speed. It’s a single speed bike that makes learning to pump pedals simple and intuitive. It even has  a handle in the',\n",
              " 'bottom of the saddle so you can easily help your child during training!  The Jigger is among the most lightweight',\n",
              " 'children’s bikes on the planet. It is designed so that 2-3 year-olds fit comfortably in a molded ride position that',\n",
              " 'allows for efficient riding, balanced handling and agility. The Jigger’s frame design and gears work together so your',\n",
              " 'buddingbiker can stand up out of the seat, stop rapidly, rip over trails and pump tracks. The Jigger’s is amazing on',\n",
              " 'dirt or pavement. Your tike will speed down the bike path in no time. The Jigger will ship with a coaster brake. A',\n",
              " 'freewheel kit is provided at no cost.']"
            ]
          },
          "execution_count": 6,
          "metadata": {},
          "output_type": "execute_result"
        }
      ],
      "source": [
        "from textwrap import TextWrapper\n",
        "\n",
        "sample_description = bikes[0]['description']\n",
        "TextWrapper(width=120).wrap(sample_description)"
      ]
    },
    {
      "attachments": {},
      "cell_type": "markdown",
      "metadata": {},
      "source": [
        "To generate the vector embeddings, we use the `encode` function:"
      ]
    },
    {
      "cell_type": "code",
      "execution_count": 7,
      "metadata": {},
      "outputs": [],
      "source": [
        "embedding = embedder.encode(sample_description)"
      ]
    },
    {
      "attachments": {},
      "cell_type": "markdown",
      "metadata": {},
      "source": [
        "Let's take a peek at the first 5 elements of the generated vector:"
      ]
    },
    {
      "cell_type": "code",
      "execution_count": 8,
      "metadata": {},
      "outputs": [
        {
          "name": "stdout",
          "output_type": "stream",
          "text": [
            "[0.20076487958431244, -0.13000741600990295, 0.3081613779067993, 0.20627960562705994, -0.3692358136177063]\n"
          ]
        }
      ],
      "source": [
        "print(embedding.tolist()[:5])"
      ]
    },
    {
      "attachments": {},
      "cell_type": "markdown",
      "metadata": {},
      "source": [
        "Let's also extract the length of the vector embeddings generated by the model, which we'll store in the constant `VECTOR_DIMENSION`, which we'll use later when working with Redis indices:"
      ]
    },
    {
      "cell_type": "code",
      "execution_count": 9,
      "metadata": {},
      "outputs": [
        {
          "data": {
            "text/plain": [
              "768"
            ]
          },
          "execution_count": 9,
          "metadata": {},
          "output_type": "execute_result"
        }
      ],
      "source": [
        "VECTOR_DIMENSION = len(embedding)\n",
        "VECTOR_DIMENSION"
      ]
    },
    {
      "attachments": {},
      "cell_type": "markdown",
      "metadata": {},
      "source": [
        "The chosen model generates vector embeddings of length `768` regardless of the length of the input text."
      ]
    },
    {
      "attachments": {},
      "cell_type": "markdown",
      "metadata": {},
      "source": [
        "## Storing our bikes in Redis"
      ]
    },
    {
      "attachments": {},
      "cell_type": "markdown",
      "metadata": {
        "id": "VaKJPJ21JQRe"
      },
      "source": [
        "### Redis Stack Setup\n",
        "\n",
        "Now that we know how to vectorize the bikes descriptions, it's time to start working with Redis. If you are working in a Google Colab environment, the code below will download, install and start the Redis Stack Server:"
      ]
    },
    {
      "cell_type": "code",
      "execution_count": 10,
      "metadata": {},
      "outputs": [],
      "source": [
        "in_colab = 'google.colab' in str(get_ipython())\n",
        "if in_colab:\n",
        "  !curl -fsSL https://packages.redis.io/redis-stack/redis-stack-server-6.2.6-v7.focal.x86_64.tar.gz -o redis-stack-server.tar.gz\n",
        "  !tar -xvf redis-stack-server.tar.gz\n",
        "  !./redis-stack-server-6.2.6-v7/bin/redis-stack-server --daemonize yes"
      ]
    },
    {
      "attachments": {},
      "cell_type": "markdown",
      "metadata": {},
      "source": [
        "Otherwise, you can download and run Redis Stack Server with docker. [See instructions here](https://redis.io/docs/stack/get-started/install/docker/)."
      ]
    },
    {
      "attachments": {},
      "cell_type": "markdown",
      "metadata": {
        "id": "kiwmgzpYJi8e"
      },
      "source": [
        "### Redis Python Client\n",
        "\n",
        "To interact with Redis, we'll install the [`redis-py`](https://github.com/redis/redis-py) client library, which encapsulates the commands to work with OSS Redis as well as Redis Stack:"
      ]
    },
    {
      "cell_type": "code",
      "execution_count": 11,
      "metadata": {
        "colab": {
          "base_uri": "https://localhost:8080/"
        },
        "id": "dULI4zyHllPn",
        "outputId": "a4a68b54-eb4f-41ea-bb5b-25917ed0676a"
      },
      "outputs": [
        {
          "name": "stdout",
          "output_type": "stream",
          "text": [
            "huggingface/tokenizers: The current process just got forked, after parallelism has already been used. Disabling parallelism to avoid deadlocks...\n",
            "To disable this warning, you can either:\n",
            "\t- Avoid using `tokenizers` before the fork if possible\n",
            "\t- Explicitly set the environment variable TOKENIZERS_PARALLELISM=(true | false)\n",
            "Note: you may need to restart the kernel to use updated packages.\n"
          ]
        }
      ],
      "source": [
        "%pip install -q redis"
      ]
    },
    {
      "attachments": {},
      "cell_type": "markdown",
      "metadata": {
        "id": "ZJiYDtclJzvR"
      },
      "source": [
        "#### Create a `redis-py` client and test the server\n",
        "\n",
        "We'll instantiate the Redis client, connecting to the localhost on Redis' default port `6379`. By default, Redis returns binary responses; to decode them, we'll pass the `decode_responses` parameter set to `True`:"
      ]
    },
    {
      "cell_type": "code",
      "execution_count": 10,
      "metadata": {
        "colab": {
          "base_uri": "https://localhost:8080/"
        },
        "id": "dssqMRpNzAkP",
        "outputId": "1bbd14a6-f890-46de-ed37-3ee412e9859a"
      },
      "outputs": [],
      "source": [
        "import redis\n",
        "client = redis.Redis(host = 'localhost', port=6379, decode_responses=True)"
      ]
    },
    {
      "attachments": {},
      "cell_type": "markdown",
      "metadata": {},
      "source": [
        "Let's use Redis' [`PING`](https://redis.io/commands/ping/) command to check that Redis is up and running:"
      ]
    },
    {
      "cell_type": "code",
      "execution_count": 11,
      "metadata": {},
      "outputs": [
        {
          "data": {
            "text/plain": [
              "True"
            ]
          },
          "execution_count": 11,
          "metadata": {},
          "output_type": "execute_result"
        }
      ],
      "source": [
        "client.ping()"
      ]
    },
    {
      "attachments": {},
      "cell_type": "markdown",
      "metadata": {},
      "source": [
        "### Storing the Bikes as JSON Documents in Redis\n",
        "\n",
        "Redis Stack includes [JSON](https://redis.io/docs/stack/json/) functionality. Like any other Redis data type, the JSON datatype allows you to use Redis commands to save, update, and retrieve JSON values. \n",
        "Since we already have the bikes data loaded in memory as the `bikes` JSON array. We will iterate over `bikes`, generate a suitable Redis key and store them in Redis using the [`JSON.SET`](https://redis.io/commands/json.set/) command. We'll do this [pipeline](https://redis.io/docs/manual/pipelining/) mode to minimize the round-trip times:"
      ]
    },
    {
      "cell_type": "code",
      "execution_count": 12,
      "metadata": {
        "colab": {
          "base_uri": "https://localhost:8080/"
        },
        "id": "vFVu3GM-VXma",
        "outputId": "058341a8-424c-40e1-e84c-6d2d3429661e"
      },
      "outputs": [
        {
          "data": {
            "text/plain": [
              "[True, True, True, True, True, True, True, True, True, True, True]"
            ]
          },
          "execution_count": 12,
          "metadata": {},
          "output_type": "execute_result"
        }
      ],
      "source": [
        "pipeline = client.pipeline()\n",
        "\n",
        "for i, bike in enumerate(bikes, start=1):\n",
        "    redis_key = f'bikes:{i:03}'\n",
        "    pipeline.json().set(redis_key, '$', bike)\n",
        "\n",
        "pipeline.execute()"
      ]
    },
    {
      "attachments": {},
      "cell_type": "markdown",
      "metadata": {
        "id": "fhREF_xwKqY3"
      },
      "source": [
        "Let's retrieve a specific value from one of the JSON bikes in Redis using a [JSONPath](https://goessner.net/articles/JsonPath/) expression:"
      ]
    },
    {
      "cell_type": "code",
      "execution_count": 13,
      "metadata": {
        "colab": {
          "base_uri": "https://localhost:8080/"
        },
        "id": "208hSDzxhvZw",
        "outputId": "f42afd46-06e4-4458-9fba-d103ee389782"
      },
      "outputs": [
        {
          "data": {
            "text/plain": [
              "['Summit']"
            ]
          },
          "execution_count": 13,
          "metadata": {},
          "output_type": "execute_result"
        }
      ],
      "source": [
        "client.json().get('bikes:010', '$.model')"
      ]
    },
    {
      "attachments": {},
      "cell_type": "markdown",
      "metadata": {
        "id": "cIlXb-Y2QcVb"
      },
      "source": [
        "### Vectorize all of the Bikes Descriptions\n",
        "\n",
        "To vectorize all the descriptions in the database, we will first collect all the Redis keys for the bikes:"
      ]
    },
    {
      "cell_type": "code",
      "execution_count": 14,
      "metadata": {},
      "outputs": [
        {
          "name": "stdout",
          "output_type": "stream",
          "text": [
            "['bikes:001', 'bikes:002', 'bikes:003', 'bikes:004', 'bikes:005', 'bikes:006', 'bikes:007', 'bikes:008', 'bikes:009', 'bikes:010', 'bikes:011']\n"
          ]
        }
      ],
      "source": [
        "keys = sorted(client.keys('bikes:*'))\n",
        "print(keys)"
      ]
    },
    {
      "attachments": {},
      "cell_type": "markdown",
      "metadata": {},
      "source": [
        "We'll use the keys as a parameter to the [`JSON.MGET`](https://redis.io/commands/json.mget/) command, along with the JSONPath expression `$.description` to collect the descriptions in a list which we will then pass to the `encode` method to get a list of vectorized embeddings:"
      ]
    },
    {
      "cell_type": "code",
      "execution_count": 15,
      "metadata": {
        "id": "juIELWOeIl7T"
      },
      "outputs": [],
      "source": [
        "import numpy as np\n",
        "\n",
        "descriptions = client.json().mget(keys, '$.description')\n",
        "descriptions = [item for sublist in descriptions for item in sublist]\n",
        "embeddings = embedder.encode(descriptions).astype(np.float32).tolist()"
      ]
    },
    {
      "attachments": {},
      "cell_type": "markdown",
      "metadata": {
        "id": "JDgOYEAeQj_C"
      },
      "source": [
        "Now we can add the vectorized descriptions to the JSON documents in Redis using the `JSON.SET` command to insert a new field in each of the documents under the JSONPath `$.description_embeddings`, once again we'll do this in pipeline mode:"
      ]
    },
    {
      "cell_type": "code",
      "execution_count": 16,
      "metadata": {
        "colab": {
          "base_uri": "https://localhost:8080/"
        },
        "id": "7EQpUGSdDzX8",
        "outputId": "744befe8-5260-46f8-ad2d-4c523ae16c1b"
      },
      "outputs": [
        {
          "data": {
            "text/plain": [
              "[True, True, True, True, True, True, True, True, True, True, True]"
            ]
          },
          "execution_count": 16,
          "metadata": {},
          "output_type": "execute_result"
        }
      ],
      "source": [
        "pipeline = client.pipeline()\n",
        "\n",
        "for key, embedding in zip(keys, embeddings):\n",
        "    pipeline.json().set(key, '$.description_embeddings', embedding)\n",
        "\n",
        "pipeline.execute()"
      ]
    },
    {
      "attachments": {},
      "cell_type": "markdown",
      "metadata": {
        "id": "G4AgPO17QspM"
      },
      "source": [
        "Let's inspect one of the vectorized bike documents using the `JSON.GET` command:"
      ]
    },
    {
      "cell_type": "code",
      "execution_count": 17,
      "metadata": {
        "colab": {
          "base_uri": "https://localhost:8080/"
        },
        "id": "PNmpOjy3OWM3",
        "outputId": "d365f641-8de6-4773-dda5-70f971436514"
      },
      "outputs": [
        {
          "name": "stdout",
          "output_type": "stream",
          "text": [
            "{\n",
            "  \"model\": \"Summit\",\n",
            "  \"brand\": \"nHill\",\n",
            "  \"price\": 1200,\n",
            "  \"type\": \"Mountain Bike\",\n",
            "  \"specs\": {\n",
            "    \"material\": \"alloy\",\n",
            "    \"weight\": \"11.3\"\n",
            "  },\n",
            "  \"description\": \"This budget mountain bike from nHill performs well both on bike paths and on the trail. The fork with 100mm of travel absorbs rough terrain. Fat Kenda Booster tires give you grip in corners and on wet trails. The Shimano Tourney drivetrain offered enough gears for finding a comfortable pace to ride uphill, and the Tektro hydraulic disc brakes break smoothly. Whether you want an affordable bike that you can take to work, but also take trail riding on the weekends or you\\u2019re just after a stable, comfortable ride for the bike path, the Summit gives a good value for money.\",\n",
            "  \"description_embeddings\": [\n",
            "    -0.5381147265434265,\n",
            "    -0.494658887386322,\n",
            "    -0.025176331400871277,\n",
            "    0.6540350317955017,\n",
            "    -0.06241431087255478,\n",
            "    -0.6898810267448425,\n",
            "    -0.5430219769477844,\n",
            "    -0.590349555015564,\n",
            "    0.5061323642730713,\n",
            "    0.20085009932518005,\n",
            "    0.80156409740448,\n",
            "    1.0688025951385498,\n",
            "    0.6989426016807556,\n",
            "    -0.594090461730957,\n",
            "    0.17186452448368073,\n",
            "    -0.7504553198814392,\n",
            "    0.3871306180953979,\n",
            "    -0.4596229195594787,\n",
            "    -0.033491529524326324,\n",
            "    -0.012831452302634716,\n",
            "    0.1319294571876526,\n",
            "    -0.5524489879608154,\n",
            "    0.4882056415081024,\n",
            "    -0.23588302731513977,\n",
            "    0.24630071222782135,\n",
            "    0.8020280599594116,\n",
            "    0.5976322293281555,\n",
            "    0.7614689469337463,\n",
            "    -0.24015499651432037,\n",
            "    0.2861471176147461,\n",
            "    0.021866703405976295,\n",
            "    0.18882304430007937,\n",
            "    -0.1281263530254364,\n",
            "    0.1695767343044281,\n",
            "    0.4675394296646118,\n",
            "    0.2592995762825012,\n",
            "    0.6704118847846985,\n",
            "    -0.30113402009010315,\n",
            "    0.18492090702056885,\n",
            "    0.08969087898731232,\n",
            "    0.26480746269226074,\n",
            "    0.22632081806659696,\n",
            "    -0.5165480375289917,\n",
            "    0.2610602378845215,\n",
            "    -0.024005405604839325,\n",
            "    0.3114425837993622,\n",
            "    -0.28918108344078064,\n",
            "    -0.35463011264801025,\n",
            "    0.2829829752445221,\n",
            "    -0.838997483253479,\n",
            "    -0.05901690199971199,\n",
            "    -0.18749038875102997,\n",
            "    -0.31679657101631165,\n",
            "    0.33606505393981934,\n",
            "    0.02394074574112892,\n",
            "    0.21229568123817444,\n",
            "    0.3039535582065582,\n",
            "    -0.10102717578411102,\n",
            "    -0.059630297124385834,\n",
            "    0.4740099012851715,\n",
            "    -0.5905972719192505,\n",
            "    -0.4031654894351959,\n",
            "    0.07812222093343735,\n",
            "    0.2005678117275238,\n",
            "    -0.5902972221374512,\n",
            "    -0.09767530858516692,\n",
            "    0.29635363817214966,\n",
            "    -0.08527051657438278,\n",
            "    0.31105878949165344,\n",
            "    0.4469989538192749,\n",
            "    0.3054927885532379,\n",
            "    0.0955771505832672,\n",
            "    0.05982963740825653,\n",
            "    0.642874002456665,\n",
            "    0.32311663031578064,\n",
            "    0.20170076191425323,\n",
            "    -0.6351252794265747,\n",
            "    0.1446156948804855,\n",
            "    0.09051235765218736,\n",
            "    -0.03918788209557533,\n",
            "    0.06271777302026749,\n",
            "    0.2427331656217575,\n",
            "    0.04995220527052879,\n",
            "    -0.04752298071980477,\n",
            "    -0.09225017577409744,\n",
            "    0.1315605789422989,\n",
            "    0.1986191123723984,\n",
            "    -0.12237413227558136,\n",
            "    -0.2799752950668335,\n",
            "    0.43794509768486023,\n",
            "    0.06735005229711533,\n",
            "    -0.5184993743896484,\n",
            "    0.2469521015882492,\n",
            "    0.1408142447471619,\n",
            "    0.07050573825836182,\n",
            "    0.10276836901903152,\n",
            "    0.1023266538977623,\n",
            "    0.10538442432880402,\n",
            "    0.4192570745944977,\n",
            "    0.14350861310958862,\n",
            "    0.9640527367591858,\n",
            "    0.007707040756940842,\n",
            "    0.14736291766166687,\n",
            "    -0.08167081326246262,\n",
            "    -0.38623011112213135,\n",
            "    -0.49869096279144287,\n",
            "    0.04468577727675438,\n",
            "    -0.44564518332481384,\n",
            "    -0.3988715708255768,\n",
            "    0.18717773258686063,\n",
            "    -0.2889905869960785,\n",
            "    -0.04563452303409576,\n",
            "    0.2671542167663574,\n",
            "    0.2798469364643097,\n",
            "    0.3135560154914856,\n",
            "    0.04133656248450279,\n",
            "    -0.5566989183425903,\n",
            "    -0.018165381625294685,\n",
            "    -0.21218279004096985,\n",
            "    0.3132258355617523,\n",
            "    0.6287632584571838,\n",
            "    0.05154912918806076,\n",
            "    -0.09076698124408722,\n",
            "    0.03256077319383621,\n",
            "    0.6196544766426086,\n",
            "    0.03548447787761688,\n",
            "    -0.4422953128814697,\n",
            "    0.19347238540649417,\n",
            "    0.4343230724334717,\n",
            "    0.058777935802936554,\n",
            "    -0.27690818905830383,\n",
            "    -0.8051246404647827,\n",
            "    -0.03874945268034935,\n",
            "    -0.1024361327290535,\n",
            "    0.5300276875495911,\n",
            "    0.08630631864070892,\n",
            "    0.17151468992233276,\n",
            "    -0.32652515172958374,\n",
            "    0.3952367901802063,\n",
            "    -0.3025078773498535,\n",
            "    0.003135800128802657,\n",
            "    0.5480349063873291,\n",
            "    0.379775196313858,\n",
            "    -0.29795801639556885,\n",
            "    0.4122604727745056,\n",
            "    0.49509137868881226,\n",
            "    0.23852123320102692,\n",
            "    -0.705316960811615,\n",
            "    0.1469423621892929,\n",
            "    -0.29182353615760803,\n",
            "    -0.045893777161836624,\n",
            "    -0.24837705492973328,\n",
            "    0.4551837146282196,\n",
            "    0.13973374664783478,\n",
            "    0.03498295694589615,\n",
            "    0.2680181562900543,\n",
            "    -0.19169387221336365,\n",
            "    0.23150315880775452,\n",
            "    -0.04512464627623558,\n",
            "    -0.5535305142402649,\n",
            "    -0.5038506388664246,\n",
            "    -0.412550687789917,\n",
            "    0.032534584403038025,\n",
            "    0.12316061556339264,\n",
            "    -0.15821683406829834,\n",
            "    -0.5978425741195679,\n",
            "    0.1508517563343048,\n",
            "    -0.28179416060447693,\n",
            "    0.03896111249923706,\n",
            "    -0.14292477071285248,\n",
            "    0.1068953424692154,\n",
            "    -0.04579051956534386,\n",
            "    -0.4101534187793732,\n",
            "    0.09451550990343094,\n",
            "    0.5251074433326721,\n",
            "    -0.536860466003418,\n",
            "    0.13070178031921387,\n",
            "    -0.028142007067799568,\n",
            "    -0.7927539348602295,\n",
            "    0.15735208988189697,\n",
            "    -0.06539884954690933,\n",
            "    0.39150530099868774,\n",
            "    0.8629965782165527,\n",
            "    -0.08021809905767441,\n",
            "    0.1936868727207184,\n",
            "    -0.052192773669958115,\n",
            "    0.386216253042221,\n",
            "    -0.15033797919750214,\n",
            "    -0.17858153581619263,\n",
            "    0.22253158688545227,\n",
            "    0.3043183982372284,\n",
            "    -0.1205843836069107,\n",
            "    0.5396392941474915,\n",
            "    -0.40501075983047485,\n",
            "    0.0936879888176918,\n",
            "    0.0979793816804886,\n",
            "    0.09601251035928726,\n",
            "    -0.23936280608177185,\n",
            "    0.00730125792324543,\n",
            "    0.19247396290302277,\n",
            "    0.6849698424339294,\n",
            "    -0.24237032234668732,\n",
            "    0.19016994535923004,\n",
            "    -0.5123589038848877,\n",
            "    -0.6767672896385193,\n",
            "    0.42031368613243103,\n",
            "    -0.29738447070121765,\n",
            "    -0.07170793414115906,\n",
            "    0.17699936032295227,\n",
            "    -0.5528145432472229,\n",
            "    0.049932364374399185,\n",
            "    -0.20961545407772064,\n",
            "    -0.2923221290111542,\n",
            "    0.2655296325683594,\n",
            "    -0.39323922991752625,\n",
            "    0.16528701782226562,\n",
            "    0.4104458093643189,\n",
            "    0.4218277633190155,\n",
            "    0.4658206105232239,\n",
            "    0.5773609280586243,\n",
            "    0.4535651504993438,\n",
            "    0.05365661531686783,\n",
            "    0.012064405716955662,\n",
            "    0.10688550025224686,\n",
            "    -0.3417113721370697,\n",
            "    0.27404576539993286,\n",
            "    -0.4066793918609619,\n",
            "    0.139939084649086,\n",
            "    -0.46702566742897034,\n",
            "    0.6416953802108765,\n",
            "    -0.11728460341691972,\n",
            "    -0.15365178883075714,\n",
            "    0.16644792258739471,\n",
            "    0.013416090048849584,\n",
            "    0.6865310072898865,\n",
            "    0.1631961315870285,\n",
            "    -0.1313890814781189,\n",
            "    -0.33914825320243835,\n",
            "    0.7143837809562683,\n",
            "    0.4153403639793396,\n",
            "    0.05084246024489403,\n",
            "    0.021625740453600883,\n",
            "    -0.399813711643219,\n",
            "    0.3656952679157257,\n",
            "    -0.6861080527305603,\n",
            "    0.2263183295726776,\n",
            "    0.24341684579849243,\n",
            "    -0.3938928544521332,\n",
            "    -0.29398471117019653,\n",
            "    -0.6988911032676697,\n",
            "    0.0023755321744829416,\n",
            "    0.2557758688926697,\n",
            "    0.07733387500047684,\n",
            "    0.08562858402729034,\n",
            "    -0.4653771221637726,\n",
            "    -0.4722498655319214,\n",
            "    0.2046571522951126,\n",
            "    0.17218436300754547,\n",
            "    -0.051282040774822235,\n",
            "    -0.25903016328811646,\n",
            "    -0.24281571805477145,\n",
            "    0.21210570633411407,\n",
            "    -0.40470635890960693,\n",
            "    -0.01668461225926876,\n",
            "    -0.3682075440883637,\n",
            "    -0.3465365469455719,\n",
            "    0.01965203322470188,\n",
            "    0.5925341248512268,\n",
            "    -0.6207070350646973,\n",
            "    0.17721571028232574,\n",
            "    -0.07996486127376556,\n",
            "    0.11140970885753632,\n",
            "    0.9344692230224608,\n",
            "    -0.1232692450284958,\n",
            "    -0.7111530900001526,\n",
            "    -0.058461982756853104,\n",
            "    -0.012009821832180023,\n",
            "    0.44158244132995605,\n",
            "    -0.34924402832984924,\n",
            "    0.2759528160095215,\n",
            "    0.24787193536758423,\n",
            "    0.45545539259910583,\n",
            "    0.7593423128128052,\n",
            "    0.451687753200531,\n",
            "    0.20077456533908844,\n",
            "    0.6386059522628784,\n",
            "    0.1254127323627472,\n",
            "    -0.15471814572811127,\n",
            "    -0.3566974103450775,\n",
            "    0.09352464228868484,\n",
            "    0.3809760808944702,\n",
            "    -0.19434940814971924,\n",
            "    0.1960669904947281,\n",
            "    -0.1938815712928772,\n",
            "    -0.12396419048309326,\n",
            "    0.10173903405666351,\n",
            "    0.09660381823778152,\n",
            "    -0.10971864312887192,\n",
            "    0.2755379378795624,\n",
            "    -0.019902624189853668,\n",
            "    0.19881080090999603,\n",
            "    0.008420913480222225,\n",
            "    0.04321762174367905,\n",
            "    0.3202623426914215,\n",
            "    0.3839450776576996,\n",
            "    -0.05447164550423622,\n",
            "    -0.5989939570426941,\n",
            "    -0.25146540999412537,\n",
            "    -1.334197163581848,\n",
            "    0.5993679165840149,\n",
            "    0.319672554731369,\n",
            "    -0.17753592133522034,\n",
            "    0.33832499384880066,\n",
            "    -0.5411825180053711,\n",
            "    -0.111175537109375,\n",
            "    -0.330019474029541,\n",
            "    -0.5902718305587769,\n",
            "    0.23765355348587036,\n",
            "    0.2559582591056824,\n",
            "    -0.5160521268844604,\n",
            "    0.1802697479724884,\n",
            "    -0.8441842794418335,\n",
            "    -0.3229617774486542,\n",
            "    0.33803871273994446,\n",
            "    0.2697961628437042,\n",
            "    0.16679726541042328,\n",
            "    0.32717272639274597,\n",
            "    0.016407696530222893,\n",
            "    0.6034488677978516,\n",
            "    -0.1377453655004501,\n",
            "    0.01970328576862812,\n",
            "    0.24642014503479004,\n",
            "    -0.12335269153118134,\n",
            "    0.44624102115631104,\n",
            "    0.2351042628288269,\n",
            "    0.3410493731498718,\n",
            "    -0.8825139403343201,\n",
            "    0.1472068578004837,\n",
            "    -0.1124621108174324,\n",
            "    0.26281535625457764,\n",
            "    0.4259584546089173,\n",
            "    0.31630417704582214,\n",
            "    -0.006870050448924303,\n",
            "    -0.5521697998046875,\n",
            "    0.8179330229759216,\n",
            "    0.5987632870674133,\n",
            "    0.6024845838546753,\n",
            "    -0.06854122132062912,\n",
            "    -0.7556211352348328,\n",
            "    -0.13749651610851288,\n",
            "    0.8337657451629639,\n",
            "    0.10520512610673904,\n",
            "    0.3683309257030487,\n",
            "    0.1519603580236435,\n",
            "    0.2314470410346985,\n",
            "    0.13188478350639343,\n",
            "    0.5445393323898315,\n",
            "    0.029217246919870377,\n",
            "    0.5117155909538269,\n",
            "    -0.8463568687438965,\n",
            "    -0.11278558522462843,\n",
            "    -0.004146161954849958,\n",
            "    -0.12626075744628906,\n",
            "    -0.5803462266921997,\n",
            "    0.10947900265455246,\n",
            "    0.1760309785604477,\n",
            "    0.3596994876861572,\n",
            "    0.12959204614162445,\n",
            "    -0.012910217978060246,\n",
            "    0.035483576357364655,\n",
            "    0.00626241322606802,\n",
            "    -0.3838711977005005,\n",
            "    -0.07806837558746338,\n",
            "    -0.08932635933160782,\n",
            "    0.8280882239341736,\n",
            "    -0.040968894958496094,\n",
            "    -0.07454732060432434,\n",
            "    -0.13294532895088196,\n",
            "    -0.6491230726242065,\n",
            "    -0.08123990893363953,\n",
            "    0.180860236287117,\n",
            "    -0.35690248012542725,\n",
            "    0.15599365532398224,\n",
            "    -0.2716362178325653,\n",
            "    0.18710121512413025,\n",
            "    -0.18621224164962769,\n",
            "    -0.6854655742645264,\n",
            "    0.372206836938858,\n",
            "    -0.10944510251283646,\n",
            "    -0.6613889336585999,\n",
            "    0.7218120098114014,\n",
            "    0.0957513377070427,\n",
            "    0.2342330515384674,\n",
            "    -0.340114563703537,\n",
            "    -0.12799406051635742,\n",
            "    0.3037131726741791,\n",
            "    0.5078847408294678,\n",
            "    0.37794339656829834,\n",
            "    0.20686037838459015,\n",
            "    -0.1873516142368317,\n",
            "    -0.6132456660270691,\n",
            "    -0.13796916604042053,\n",
            "    0.3083746135234833,\n",
            "    -0.0363653339445591,\n",
            "    0.1315690279006958,\n",
            "    -0.6722038388252258,\n",
            "    -0.16768966615200043,\n",
            "    -0.4975340962409973,\n",
            "    -0.229447603225708,\n",
            "    -0.057957857847213745,\n",
            "    0.22860464453697205,\n",
            "    0.03821159899234772,\n",
            "    -1.0245915651321411,\n",
            "    -0.1939469575881958,\n",
            "    0.02630024403333664,\n",
            "    0.441978394985199,\n",
            "    0.36564403772354126,\n",
            "    -0.1454438418149948,\n",
            "    -0.02202042192220688,\n",
            "    -0.18210603296756744,\n",
            "    -0.3334173262119293,\n",
            "    0.3778727352619171,\n",
            "    -0.443463921546936,\n",
            "    -0.1272430717945099,\n",
            "    -0.6089416146278381,\n",
            "    -0.3537713289260864,\n",
            "    0.1698368936777115,\n",
            "    0.1871478706598282,\n",
            "    -0.1576066017150879,\n",
            "    0.28109094500541687,\n",
            "    0.105312742292881,\n",
            "    -0.3390953838825226,\n",
            "    0.4886724352836609,\n",
            "    0.37441521883010864,\n",
            "    -0.3271525204181671,\n",
            "    -0.2431175410747528,\n",
            "    -0.3735652863979339,\n",
            "    -0.3703221082687378,\n",
            "    0.298977255821228,\n",
            "    -0.2859719395637512,\n",
            "    0.47395697236061096,\n",
            "    0.08220648020505905,\n",
            "    -0.6677789092063904,\n",
            "    -0.4514791071414947,\n",
            "    -0.27840709686279297,\n",
            "    0.315056711435318,\n",
            "    -0.17782394587993622,\n",
            "    0.10443227738142014,\n",
            "    -0.14896617829799652,\n",
            "    0.4152430593967438,\n",
            "    0.2873632609844208,\n",
            "    0.28854116797447205,\n",
            "    1.1955466270446775,\n",
            "    -0.3249996602535248,\n",
            "    -0.8816057443618774,\n",
            "    -0.3105735778808594,\n",
            "    -0.29724597930908203,\n",
            "    -0.12306706607341766,\n",
            "    0.5406584143638611,\n",
            "    -0.06093398109078407,\n",
            "    -0.3939743638038635,\n",
            "    -0.04238580912351608,\n",
            "    0.20208391547203064,\n",
            "    0.3739272952079773,\n",
            "    -0.37581712007522583,\n",
            "    -0.10956881940364838,\n",
            "    0.41944172978401184,\n",
            "    -0.37599530816078186,\n",
            "    0.6869877576828003,\n",
            "    0.029744533821940426,\n",
            "    0.5274145007133484,\n",
            "    0.4458697736263275,\n",
            "    0.13637162744998932,\n",
            "    0.6850506067276001,\n",
            "    0.1286110281944275,\n",
            "    -0.3649787306785583,\n",
            "    -0.11097352206707,\n",
            "    -0.1973740756511688,\n",
            "    0.35520821809768677,\n",
            "    -0.1833602339029312,\n",
            "    -0.7865824699401855,\n",
            "    -0.2565726339817047,\n",
            "    -0.019723616540431976,\n",
            "    -0.09610464423894882,\n",
            "    0.2035655826330185,\n",
            "    -0.4870622754096985,\n",
            "    -0.4017432928085327,\n",
            "    -0.7093130946159363,\n",
            "    -0.4545162916183472,\n",
            "    0.1722763031721115,\n",
            "    0.2403823882341385,\n",
            "    0.2748437523841858,\n",
            "    0.0274956077337265,\n",
            "    -1.161609768867493,\n",
            "    -0.15133047103881836,\n",
            "    0.06942486763000488,\n",
            "    -0.5277104377746582,\n",
            "    0.03605462610721588,\n",
            "    1.1370716094970703,\n",
            "    0.27360692620277405,\n",
            "    0.03319181874394417,\n",
            "    0.37210047245025635,\n",
            "    0.4189936518669128,\n",
            "    -0.14986804127693176,\n",
            "    0.4538350999355316,\n",
            "    -0.6862931847572327,\n",
            "    -0.22215446829795835,\n",
            "    0.08638608455657959,\n",
            "    -0.2915862500667572,\n",
            "    -0.002146476646885276,\n",
            "    0.09016712009906767,\n",
            "    -0.03455785661935806,\n",
            "    -0.08745530992746353,\n",
            "    -0.09948693960905076,\n",
            "    0.13132911920547485,\n",
            "    0.09507313370704652,\n",
            "    -0.40846899151802063,\n",
            "    -0.6975427865982056,\n",
            "    0.207954540848732,\n",
            "    -0.5201101303100586,\n",
            "    0.45888572931289673,\n",
            "    0.23661720752716064,\n",
            "    0.3797740638256073,\n",
            "    -0.23636075854301453,\n",
            "    0.0064258757047355175,\n",
            "    -0.5672537684440613,\n",
            "    0.27043768763542175,\n",
            "    0.075771763920784,\n",
            "    -0.16010673344135284,\n",
            "    -0.36607837677001953,\n",
            "    -0.25548848509788513,\n",
            "    -0.21496962010860443,\n",
            "    -0.11009839922189713,\n",
            "    -0.3039523661136627,\n",
            "    -0.134364053606987,\n",
            "    0.2862454950809479,\n",
            "    0.026896629482507706,\n",
            "    -0.44400444626808167,\n",
            "    -0.27621346712112427,\n",
            "    -0.05281554535031319,\n",
            "    -0.5582773685455322,\n",
            "    0.1537196934223175,\n",
            "    0.25749775767326355,\n",
            "    0.6305355429649353,\n",
            "    0.15988488495349884,\n",
            "    0.2000824511051178,\n",
            "    -0.1716133952140808,\n",
            "    -0.4939902722835541,\n",
            "    0.02122627943754196,\n",
            "    0.4490474760532379,\n",
            "    0.15301573276519775,\n",
            "    0.02906772680580616,\n",
            "    -0.6886758804321289,\n",
            "    0.3008446991443634,\n",
            "    -0.45541152358055115,\n",
            "    0.47165900468826294,\n",
            "    -0.10058189183473588,\n",
            "    0.01676207408308983,\n",
            "    -0.0027131792157888412,\n",
            "    -0.0372135266661644,\n",
            "    -0.44566479325294495,\n",
            "    -0.1091672256588936,\n",
            "    0.20557913184165957,\n",
            "    -0.3436674475669861,\n",
            "    -0.32144278287887573,\n",
            "    -0.475342333316803,\n",
            "    0.04333806410431862,\n",
            "    0.22444844245910645,\n",
            "    0.049496497958898544,\n",
            "    -0.02005259320139885,\n",
            "    0.2942439019680023,\n",
            "    -0.10853195190429688,\n",
            "    -0.031206123530864716,\n",
            "    -0.06596255302429199,\n",
            "    -0.4251214563846588,\n",
            "    -1.0410523414611816,\n",
            "    0.010507640428841114,\n",
            "    -0.4679409265518189,\n",
            "    -0.6458200812339783,\n",
            "    -0.2881658971309662,\n",
            "    -0.11038295179605484,\n",
            "    -0.18570247292518616,\n",
            "    -0.2775479257106781,\n",
            "    -0.4430347681045532,\n",
            "    0.30690863728523254,\n",
            "    0.04230968654155731,\n",
            "    0.1726250946521759,\n",
            "    -0.1822071224451065,\n",
            "    0.4507127106189728,\n",
            "    0.5076602101325989,\n",
            "    -0.4557765424251557,\n",
            "    0.2849219739437103,\n",
            "    -0.4570764899253845,\n",
            "    0.516696035861969,\n",
            "    -0.04786616563796997,\n",
            "    0.05665840208530426,\n",
            "    -0.03380747511982918,\n",
            "    0.4275809824466706,\n",
            "    -0.12858060002326965,\n",
            "    0.4344589710235596,\n",
            "    -0.03549208119511604,\n",
            "    0.1247657760977745,\n",
            "    -0.47778552770614624,\n",
            "    0.3086485266685486,\n",
            "    0.1865125298500061,\n",
            "    -0.8947007656097412,\n",
            "    -0.5961059331893921,\n",
            "    0.611958920955658,\n",
            "    -0.16717810928821564,\n",
            "    -0.1275317668914795,\n",
            "    0.2543328106403351,\n",
            "    -0.0052850437350571156,\n",
            "    0.05697089433670044,\n",
            "    -0.3891613185405731,\n",
            "    -0.007764977402985096,\n",
            "    -0.09870732575654984,\n",
            "    0.2166331112384796,\n",
            "    -0.16209284961223602,\n",
            "    0.14309728145599365,\n",
            "    0.4908457398414612,\n",
            "    -0.02753857895731926,\n",
            "    0.8356148600578308,\n",
            "    0.38108301162719727,\n",
            "    -0.29275912046432495,\n",
            "    0.49421992897987366,\n",
            "    0.27381432056427,\n",
            "    0.034689031541347504,\n",
            "    0.1960981488227844,\n",
            "    0.516599714756012,\n",
            "    0.19769994914531708,\n",
            "    -0.17444811761379242,\n",
            "    -0.1478101760149002,\n",
            "    0.4835859537124634,\n",
            "    -0.12934720516204834,\n",
            "    -0.519736111164093,\n",
            "    -0.4809199869632721,\n",
            "    0.46971943974494934,\n",
            "    0.5247107744216919,\n",
            "    -0.08391180634498596,\n",
            "    -0.004678430501371622,\n",
            "    -0.02603527158498764,\n",
            "    0.377006858587265,\n",
            "    0.41274523735046387,\n",
            "    0.06410560011863708,\n",
            "    -0.03599787876009941,\n",
            "    0.4146588146686554,\n",
            "    -0.30094414949417114,\n",
            "    -0.3978960216045379,\n",
            "    -0.5302188992500305,\n",
            "    -0.519625186920166,\n",
            "    -0.12224005162715912,\n",
            "    -0.22763186693191528,\n",
            "    0.34601444005966187,\n",
            "    -0.2695506811141968,\n",
            "    0.13273125886917114,\n",
            "    -0.3952527344226837,\n",
            "    0.06624150276184082,\n",
            "    0.09462102502584456,\n",
            "    0.08858907967805862,\n",
            "    0.25753653049468994,\n",
            "    0.2097487449645996,\n",
            "    -0.2300509363412857,\n",
            "    -0.5898211002349854,\n",
            "    0.09514149278402328,\n",
            "    -0.5494325160980225,\n",
            "    0.1623450666666031,\n",
            "    -0.6152016520500183,\n",
            "    -0.30295032262802124,\n",
            "    0.46229076385498047,\n",
            "    0.30305448174476624,\n",
            "    -0.3961062729358673,\n",
            "    -0.6167342662811279,\n",
            "    0.0752006471157074,\n",
            "    -0.05536757782101631,\n",
            "    0.1284189671278,\n",
            "    0.004809492267668247,\n",
            "    0.05882453918457031,\n",
            "    0.9788355231285096,\n",
            "    -0.435120552778244,\n",
            "    0.6372414827346802,\n",
            "    0.09851861745119096,\n",
            "    -0.34352222084999084,\n",
            "    0.09211371839046478,\n",
            "    -0.37361425161361694,\n",
            "    0.014728528447449207,\n",
            "    -0.20557931065559387,\n",
            "    -0.1043246164917946,\n",
            "    0.3970883786678314,\n",
            "    -0.03541338071227074,\n",
            "    0.2968790829181671,\n",
            "    0.023487800732254985,\n",
            "    0.22185106575489044,\n",
            "    0.060057178139686584,\n",
            "    -0.14773689210414886,\n",
            "    -0.07563810795545578,\n",
            "    -0.08797641843557358,\n",
            "    -0.028420165181159973,\n",
            "    -0.01359183993190527,\n",
            "    0.26848915219306946,\n",
            "    0.421811044216156,\n",
            "    -0.4521673917770386,\n",
            "    0.35130828619003296,\n",
            "    -0.0846254751086235,\n",
            "    0.20833000540733335,\n",
            "    -0.17099076509475708,\n",
            "    0.15960288047790527,\n",
            "    -0.7183048129081726,\n",
            "    0.2042951732873917,\n",
            "    -0.3634582757949829,\n",
            "    0.06277929991483688,\n",
            "    0.19862326979637143,\n",
            "    0.4935551881790161,\n",
            "    0.34019848704338074,\n",
            "    -0.3086957037448883,\n",
            "    0.060210857540369034,\n",
            "    -0.1010126769542694,\n",
            "    -0.33587926626205444,\n",
            "    -0.5933329463005066,\n",
            "    0.27200281620025635,\n",
            "    0.4882515072822571,\n",
            "    0.44463419914245605,\n",
            "    0.03825812041759491,\n",
            "    0.33544811606407166,\n",
            "    -0.5688244700431824,\n",
            "    0.3816801905632019,\n",
            "    0.05054637789726257,\n",
            "    -0.5068252682685852,\n",
            "    0.03018050640821457,\n",
            "    -0.29553014039993286,\n",
            "    0.4084132313728333,\n",
            "    0.32753831148147583,\n",
            "    0.3025016188621521,\n",
            "    0.44828635454177856,\n",
            "    0.2732158303260803,\n",
            "    -0.3072575628757477,\n",
            "    -0.3469488322734833,\n",
            "    -0.8999791741371155,\n",
            "    0.14887866377830505,\n",
            "    0.003412943799048662,\n",
            "    -0.3576561212539673,\n",
            "    -0.3305385708808899,\n",
            "    -0.5140467882156372,\n",
            "    0.03085600584745407,\n",
            "    0.04695536941289902,\n",
            "    0.29854413866996765,\n",
            "    -0.03004058077931404,\n",
            "    -0.10855802148580553,\n",
            "    0.1574988216161728,\n",
            "    -0.2053176611661911,\n",
            "    0.4796631634235382,\n",
            "    -0.16227637231349945,\n",
            "    0.4480377733707428,\n",
            "    -0.5054652094841003,\n",
            "    -0.03203873336315155,\n",
            "    0.18630772829055783,\n",
            "    0.22798773646354675,\n",
            "    -0.4388807415962219,\n",
            "    0.6194002032279968,\n",
            "    0.03497011214494705,\n",
            "    -0.0001580190728418529,\n",
            "    -0.14509814977645874,\n",
            "    -0.4929401874542236,\n",
            "    -0.01985258050262928,\n",
            "    0.14450399577617645,\n",
            "    -0.11215188354253768,\n",
            "    -0.048628561198711395,\n",
            "    -0.1295158714056015,\n",
            "    -1.0196232795715332\n",
            "  ]\n",
            "}\n"
          ]
        }
      ],
      "source": [
        "print(json.dumps(client.json().get('bikes:010'), indent=2)) "
      ]
    },
    {
      "attachments": {},
      "cell_type": "markdown",
      "metadata": {},
      "source": [
        "When storing a vector embedding as part of a JSON datatype, the embedding is stored as a JSON array, in our case, under the field `description_embeddings` as shown."
      ]
    },
    {
      "attachments": {},
      "cell_type": "markdown",
      "metadata": {
        "id": "RctF2ngSQ5wV"
      },
      "source": [
        "### Making the bikes collection searchable\n",
        "\n",
        "Redis Stack provides a powerful search engine ([RediSearch](https://redis.io/docs/stack/search/)) that introduces [commands](https://redis.io/docs/stack/search/commands/) to create and maintain search indices for both collections of HASHES and [JSON](https://redis.io/docs/stack/search/indexing_json/) documents.\n",
        "\n",
        "To create a search index for the bikes collection, we'll use the [`FT.CREATE`](https://redis.io/commands/ft.create/) command:\n",
        "\n",
        "```\n",
        "1️⃣ FT.CREATE idx:bikes_vss ON JSON \n",
        "2️⃣  PREFIX 1 bikes: SCORE 1.0 \n",
        "3️⃣  SCHEMA \n",
        "4️⃣    $.model TEXT WEIGHT 1.0 NOSTEM \n",
        "5️⃣    $.brand TEXT WEIGHT 1.0 NOSTEM \n",
        "6️⃣    $.price NUMERIC \n",
        "7️⃣    $.type TAG SEPARATOR \",\" \n",
        "8️⃣    $.description AS description TEXT WEIGHT 1.0 \n",
        "9️⃣    $.description_embeddings AS vector VECTOR FLAT 6 TYPE FLOAT32 DIM 768 DISTANCE_METRIC COSINE\n",
        "```\n",
        "\n",
        "There is a lot to unpack here; let's take it from the top:\n",
        "\n",
        "- 1️⃣ We start by specifying the name of the index; `idx:bikes` indexing keys of type `JSON`.\n",
        "- 2️⃣ The keys being indexed are found using the `bikes:` key prefix.\n",
        "- 3️⃣ The `SCHEMA` keyword marks the beginning of the schema field definitions.\n",
        "- 4️⃣ Declares that field in the JSON document at the JSONPath `$.model` will be indexed as a `TEXT` field, allowing full-text search queries (disabling stemming).\n",
        "- 5️⃣ The `$.brand` field will also be treated as a `TEXT` schema field.\n",
        "- 6️⃣ The `$.price` field will be indexed as a `NUMERIC` allowing numeric range queries.\n",
        "- 7️⃣ The `$.type` field will be indexed as a `TAG` field. Tag fields allow exact-match queries, and are suitable for categorical values.\n",
        "- 8️⃣ The `$.description` field will also be indexed as a `TEXT` field.\n",
        "- 9️⃣ Finally, the vector embeddings in `$.description_embeddings` are indexed as a `VECTOR` field and assigned to the alias `vector`. \n",
        "  \n",
        "Let's break down the `VECTOR` schema field definition to better understand the inner workings of Vector Similarity in Redis:\n",
        "\n",
        "* `FLAT`: Specifies the indexing method, which can be `FLAT` or `HNSW`. FLAT (brute-force indexing) provides exact results but at a higher computational cost, while HNSW (Hierarchical Navigable Small World) is a more efficient method that provides approximate results with lower computational overhead.\n",
        "* `TYPE`: Set to `FLOAT32`. Current supported types are `FLOAT32` and `FLOAT64`.\n",
        "* `DIM`: The length or dimension of our embeddings, which we determined previosly to be `768`.\n",
        "* `DISTANCE_METRIC`: One of `L2`, `IP`, `COSINE`. \n",
        "  - `L2` stands for \"Euclidean distance\"; a straight-line distance between the vectors. Preferred when the absolute differences, including magnitude, matter most.\n",
        "  - `IP` stands for \"Inner Product\"; IP measures the projection of one vector onto another. It emphasizes the angle between vectors rather than their absolute positions in the vector space.\n",
        "  - `COSINE` stands for \"Cosine Similarity\"; a normalized form of inner product. This metric measures only the angle between two vectors, making it magnitude-independent.  \n",
        "  - For our querying purposes, the direction of the vectors carry more meaning (indicating semantic similarity), and the magnitude is largely influenced by the length of the documents, therefore `COSINE` similarity is chosen. Also, our chosen embedding model is fine-tuned for Cosine Similarity."
      ]
    },
    {
      "attachments": {},
      "cell_type": "markdown",
      "metadata": {},
      "source": [
        "The Python code below creates the Redis Search Index for the bikes collection equivalent to the previous raw `FT.CREATE` command:"
      ]
    },
    {
      "cell_type": "code",
      "execution_count": null,
      "metadata": {
        "id": "-5i08gIFOugP"
      },
      "outputs": [],
      "source": [
        "from redis.commands.search.field import TagField, TextField, NumericField, VectorField\n",
        "from redis.commands.search.indexDefinition import IndexDefinition, IndexType\n",
        "from redis.commands.search.query import Query\n",
        "\n",
        "INDEX_NAME = 'idx:bikes_vss'\n",
        "DOC_PREFIX = 'bikes:'\n",
        "\n",
        "try:\n",
        "    # check to see if index exists\n",
        "    client.ft(INDEX_NAME).info()\n",
        "    print('Index already exists!')\n",
        "except:\n",
        "    # schema\n",
        "    schema = (\n",
        "        TextField('$.model', no_stem=True, as_name='model'),\n",
        "        TextField('$.brand', no_stem=True, as_name='brand'),\n",
        "        NumericField('$.price', as_name='price'),\n",
        "        TagField('$.type', as_name='type'),\n",
        "        TextField('$.description', as_name='description'),\n",
        "        VectorField('$.description_embeddings',\n",
        "            'FLAT', {\n",
        "                'TYPE': 'FLOAT32',\n",
        "                'DIM': VECTOR_DIMENSION,\n",
        "                'DISTANCE_METRIC': 'COSINE',\n",
        "            },  as_name='vector'\n",
        "        ),\n",
        "    )\n",
        "\n",
        "    # index Definition\n",
        "    definition = IndexDefinition(prefix=[DOC_PREFIX], index_type=IndexType.JSON)\n",
        "\n",
        "    # create Index\n",
        "    client.ft(INDEX_NAME).create_index(fields=schema, definition=definition)"
      ]
    },
    {
      "attachments": {},
      "cell_type": "markdown",
      "metadata": {
        "id": "ubBHtW_TRBmW"
      },
      "source": [
        "#### Check the state of the index\n",
        "\n",
        "After the `FT.CREATE` creates the index, the indexing process is automatically started in the background. In the blink of an eye, our 11 JSON documents should be indexed and ready to be searched. To corroborate that, we use the [`FT.INFO`](https://redis.io/commands/ft.info/) command to check some information and statistics on the index. Of particular interest are the number of documents successfully indexed, and the number of failures:  "
      ]
    },
    {
      "cell_type": "code",
      "execution_count": 22,
      "metadata": {
        "colab": {
          "base_uri": "https://localhost:8080/"
        },
        "id": "PN80EZohP--J",
        "outputId": "f4b2dedf-e285-4041-c77d-e78939a806bb"
      },
      "outputs": [
        {
          "name": "stdout",
          "output_type": "stream",
          "text": [
            "11 documents (100 percent) indexed with 0 failures in 10.02 milliseconds\n"
          ]
        }
      ],
      "source": [
        "info = client.ft(INDEX_NAME).info()\n",
        "\n",
        "num_docs = info['num_docs']\n",
        "indexing_failures = info['hash_indexing_failures']\n",
        "total_indexing_time = info['total_indexing_time']\n",
        "percent_indexed = int(info['percent_indexed']) * 100\n",
        "\n",
        "\n",
        "print(f\"{num_docs} documents ({percent_indexed} percent) indexed with {indexing_failures} failures in {float(total_indexing_time):.2f} milliseconds\")"
      ]
    },
    {
      "attachments": {},
      "cell_type": "markdown",
      "metadata": {},
      "source": [
        "### Structured Data Searches with Redis\n",
        "\n",
        "The index `idx:bikes_vss` indexes the structured fields of our JSON documents `model`, `brand`, `price`, and `type`. It also indexes the unstructured free-form text `description` and the generated embeddings in `description_embeddings`. Before we dive deeper into Vector Similarity Search, we need to understand the basics of querying a Redis index. The Redis command of interest is [`FT.SEARCH`](https://redis.io/commands/ft.search/). Like a SQL select statement, an `FT.SEARCH` invocation can be as simple or as complex as needed. \n",
        "\n",
        "Let's try simple queries that give enough context to complete our VSS examples. For example, to retrieve all bikes where the `brand` is `Peaknetic`, we can use the following command:\n",
        "\n",
        "```\n",
        "FT.SEARCH idx:bikes_vss '@brand:Peaknetic'\n",
        "```\n",
        "\n",
        "The command will return all matching documents. With the inclusion of the vector embeddings, that's a little too verbose. If we wanted to only return specific fields from our JSON documents, for example, the document `id`, the `brand`, `model` and `price`, we could use:\n",
        "\n",
        "```\n",
        "FT.SEARCH idx:bikes_vss '@brand:Peaknetic' RETURN 4 id, brand, model, price\n",
        "```\n",
        "\n",
        "In the query, we are searching against a schema field of type `TEXT`. The equivalent Python code is:"
      ]
    },
    {
      "cell_type": "code",
      "execution_count": 23,
      "metadata": {},
      "outputs": [
        {
          "data": {
            "text/plain": [
              "[Document {'id': 'bikes:009', 'payload': None, 'brand': 'Peaknetic', 'model': 'Secto', 'price': '430'},\n",
              " Document {'id': 'bikes:008', 'payload': None, 'brand': 'Peaknetic', 'model': 'Soothe Electric bike', 'price': '1950'}]"
            ]
          },
          "execution_count": 23,
          "metadata": {},
          "output_type": "execute_result"
        }
      ],
      "source": [
        "query = (\n",
        "    Query('@brand:Peaknetic').return_fields('id', 'brand', 'model', 'price')\n",
        ")\n",
        "client.ft(INDEX_NAME).search(query).docs"
      ]
    },
    {
      "attachments": {},
      "cell_type": "markdown",
      "metadata": {},
      "source": [
        "Let's say we only wanted bikes under `$1000`. We can add a numeric range clause to our query since the `price` field is indexed as `NUMERIC`:"
      ]
    },
    {
      "cell_type": "code",
      "execution_count": 24,
      "metadata": {},
      "outputs": [
        {
          "data": {
            "text/plain": [
              "[Document {'id': 'bikes:009', 'payload': None, 'brand': 'Peaknetic', 'model': 'Secto', 'price': '430'}]"
            ]
          },
          "execution_count": 24,
          "metadata": {},
          "output_type": "execute_result"
        }
      ],
      "source": [
        "query = (\n",
        "    Query('@brand:Peaknetic @price:[0 1000]').return_fields('id', 'brand', 'model', 'price')\n",
        ")\n",
        "client.ft(INDEX_NAME).search(query).docs"
      ]
    },
    {
      "attachments": {},
      "cell_type": "markdown",
      "metadata": {
        "id": "Sf6KLjOqRJ07"
      },
      "source": [
        "### Semantic Searching with Vector Similarity Search\n",
        "\n",
        "Now that the bikes collection is stored and properly indexed in Redis, we want to query them using short query prompts. Let's put our queries in a list so we can execute them in bulk:"
      ]
    },
    {
      "cell_type": "code",
      "execution_count": 25,
      "metadata": {
        "id": "MU3rPCCIOfNc"
      },
      "outputs": [],
      "source": [
        "queries = [\n",
        "    'Bike for small kids',\n",
        "    'Best Mountain bikes for kids',\n",
        "    'Cheap Mountain bike for kids',\n",
        "    'Female specific mountain bike',\n",
        "    'Road bike for beginners',\n",
        "    'Commuter bike for people over 60',\n",
        "    'Comfortable commuter bike',\n",
        "    'Good bike for college students',\n",
        "    'Mountain bike for beginners',\n",
        "    'Vintage bike',\n",
        "    'Comfortable city bike'\n",
        "]"
      ]
    },
    {
      "attachments": {},
      "cell_type": "markdown",
      "metadata": {},
      "source": [
        "We need to encode the query prompts to query the database using VSS. Just like we did with the descriptions of the bikes, we'll use the SentenceTransformers model to encode the queries:"
      ]
    },
    {
      "cell_type": "code",
      "execution_count": 26,
      "metadata": {
        "colab": {
          "base_uri": "https://localhost:8080/"
        },
        "id": "HQlt6HGgUQut",
        "outputId": "b723809d-a9bd-4eb1-94e2-b786bbb9b039"
      },
      "outputs": [
        {
          "data": {
            "text/plain": [
              "11"
            ]
          },
          "execution_count": 26,
          "metadata": {},
          "output_type": "execute_result"
        }
      ],
      "source": [
        "encoded_queries = embedder.encode(queries)\n",
        "len(encoded_queries)"
      ]
    },
    {
      "attachments": {},
      "cell_type": "markdown",
      "metadata": {
        "id": "eOLqqTBERO-G"
      },
      "source": [
        "#### Constructing a \"Pure KNN\" VSS Query\n",
        "\n",
        "We'll start with a K-nearest neighbors (KNN) query. KNN is a foundational algorithm used in vector similarity search, where the goal is to find the most similar items to a given query item. Using the chosen distance metric, the KNN algorithm calculates the distance between the query vector and each vector in the database. It then returns the 'K' items with the smallest distances to the query vector. These are considered to be the most similar items.\n",
        "\n",
        "The syntax for vector similarity KNN queries is `(*)=>[vector_similarity_query>]` where the `(*)` (the `*` meaning all) is the filter query for the search engine. That way, one can reduce the search space by filtering the collection on which the KNN algorithm operates. \n",
        "\n",
        "* The `$query_vector` represents the query parameter we'll use to pass the vectorized query prompt.\n",
        "* The results will be filtered by `vector_score`, which is a field derived from the name of the field indexed as a Vector by appending `_score` to it, in our case, `vector` (the alias for `$.description_embeddings`). \n",
        "* Our query will return the `vector_score`, the `id` of the match documents, and the `$.brand`, `$.model`, and `$.description`. \n",
        "* Finally, to utilize a vector similarity query with the `FT.SEARCH` command, we must specify DIALECT 2 or greater."
      ]
    },
    {
      "cell_type": "code",
      "execution_count": 27,
      "metadata": {},
      "outputs": [],
      "source": [
        "query = (\n",
        "    Query('(*)=>[KNN 3 @vector $query_vector AS vector_score]')\n",
        "     .sort_by('vector_score')\n",
        "     .return_fields('vector_score', 'id', 'brand', 'model', 'description')\n",
        "     .dialect(2)\n",
        ")"
      ]
    },
    {
      "attachments": {},
      "cell_type": "markdown",
      "metadata": {},
      "source": [
        "We pass the vectorized query as `$query_vector` to the search function to execute the query. The following code shows an example of creating a NumPy array from a vectorized query prompt (`encoded_query`) as a single precision float array and converting it into a compact, byte-level representation that we can pass as a Redis parameter:\n",
        "\n",
        "```python .noeval\n",
        "client.ft(INDEX_NAME).search(query, { 'query_vector': np.array(encoded_query, dtype=np.float32).tobytes() }).docs\n",
        "````\n",
        "\n",
        "With the template for the query in place, we can use a bit of Python code to execute all query prompts in a loop, passing the vectorized query prompts. We will then loop over the matched documents and create a list of results that will help up make a lovely Pandas table to visualize the results:"
      ]
    },
    {
      "cell_type": "code",
      "execution_count": 28,
      "metadata": {},
      "outputs": [],
      "source": [
        "from IPython.display import display, HTML\n",
        "\n",
        "def create_query_table(query, queries, encoded_queries, extra_params = {}):\n",
        "    results_list = []\n",
        "    for i, encoded_query in enumerate(encoded_queries):\n",
        "        result_docs = client.ft(INDEX_NAME).search(query, { 'query_vector': np.array(encoded_query, dtype=np.float32).tobytes() } | extra_params).docs\n",
        "        for doc in result_docs:\n",
        "            vector_score = round(1 - float(doc.vector_score), 2)\n",
        "            results_list.append({\n",
        "                'query': queries[i], \n",
        "                'score': vector_score, \n",
        "                'id': doc.id,\n",
        "                'brand': doc.brand,\n",
        "                'model': doc.model,\n",
        "                'description': doc.description\n",
        "            })\n",
        "\n",
        "    # Pretty-print the table\n",
        "    queries_table = pd.DataFrame(results_list)\n",
        "    queries_table.sort_values(by=['query', 'score'], ascending=[True, False], inplace=True)\n",
        "    queries_table['query'] = queries_table.groupby('query')['query'].transform(lambda x: [x.iloc[0]] + ['']*(len(x)-1))\n",
        "    queries_table['description'] = queries_table['description'].apply(lambda x: (x[:497] + '...') if len(x) > 500 else x)\n",
        "    html = queries_table.to_html(index=False)\n",
        "    display(HTML(html))"
      ]
    },
    {
      "attachments": {},
      "cell_type": "markdown",
      "metadata": {},
      "source": [
        "The query results show the individual queries' top 3 matches (our K parameter) along with the bike's id, brand, and model. The results show that \"Female-specific mountain bike\" is the query that resulted in the highest similarity score (`0.47`) for the 'Noka Bikes' brand 'Kahuna' bike model.\n",
        "\n",
        "> \"Whether you want to try your hand at XC racing or are looking for a lively trail bike that's just as inspiring on the climbs as it is over rougher ground, the Wilder is one heck of a bike built specifically for short women. Both the frames and components have been tweaked to include a women’s saddle, different bars and unique colourway.\"\n",
        "\n",
        "\n",
        "From the bike description, we gather that this bike is an excellent all-purpose bike for women, and MS MARCO model-generated embeddings seem to have captured the semantics of the description."
      ]
    },
    {
      "cell_type": "code",
      "execution_count": 29,
      "metadata": {},
      "outputs": [
        {
          "data": {
            "text/html": [
              "<table border=\"1\" class=\"dataframe\">\n",
              "  <thead>\n",
              "    <tr style=\"text-align: right;\">\n",
              "      <th>query</th>\n",
              "      <th>score</th>\n",
              "      <th>id</th>\n",
              "      <th>brand</th>\n",
              "      <th>model</th>\n",
              "      <th>description</th>\n",
              "    </tr>\n",
              "  </thead>\n",
              "  <tbody>\n",
              "    <tr>\n",
              "      <td>Best Mountain bikes for kids</td>\n",
              "      <td>0.54</td>\n",
              "      <td>bikes:003</td>\n",
              "      <td>Nord</td>\n",
              "      <td>Chook air 5</td>\n",
              "      <td>The Chook Air 5  gives kids aged six years and older a durable and uberlight mountain bike for their first experience on tracks and easy cruising through forests and fields. The lower  top tube makes it easy to mount and dismount in any situation, giving your kids greater safety on the trails. The Chook Air 5 is the perfect intro to mountain biking.</td>\n",
              "    </tr>\n",
              "    <tr>\n",
              "      <td></td>\n",
              "      <td>0.51</td>\n",
              "      <td>bikes:010</td>\n",
              "      <td>nHill</td>\n",
              "      <td>Summit</td>\n",
              "      <td>This budget mountain bike from nHill performs well both on bike paths and on the trail. The fork with 100mm of travel absorbs rough terrain. Fat Kenda Booster tires give you grip in corners and on wet trails. The Shimano Tourney drivetrain offered enough gears for finding a comfortable pace to ride uphill, and the Tektro hydraulic disc brakes break smoothly. Whether you want an affordable bike that you can take to work, but also take trail riding on the weekends or you’re just after a stable,...</td>\n",
              "    </tr>\n",
              "    <tr>\n",
              "      <td></td>\n",
              "      <td>0.46</td>\n",
              "      <td>bikes:001</td>\n",
              "      <td>Velorim</td>\n",
              "      <td>Jigger</td>\n",
              "      <td>Small and powerful, the Jigger is the best ride for the smallest of tikes! This is the tiniest kids’ pedal bike on the market available without a coaster brake, the Jigger is the vehicle of choice for the rare tenacious little rider raring to go. We say rare because this smokin’ little bike is not ideal for a nervous first-time rider, but it’s a true giddy up for a true speedster. The Jigger is a 12 inch lightweight kids bicycle and it will meet your little one’s need for speed. It’s a single...</td>\n",
              "    </tr>\n",
              "    <tr>\n",
              "      <td>Bike for small kids</td>\n",
              "      <td>0.52</td>\n",
              "      <td>bikes:001</td>\n",
              "      <td>Velorim</td>\n",
              "      <td>Jigger</td>\n",
              "      <td>Small and powerful, the Jigger is the best ride for the smallest of tikes! This is the tiniest kids’ pedal bike on the market available without a coaster brake, the Jigger is the vehicle of choice for the rare tenacious little rider raring to go. We say rare because this smokin’ little bike is not ideal for a nervous first-time rider, but it’s a true giddy up for a true speedster. The Jigger is a 12 inch lightweight kids bicycle and it will meet your little one’s need for speed. It’s a single...</td>\n",
              "    </tr>\n",
              "    <tr>\n",
              "      <td></td>\n",
              "      <td>0.45</td>\n",
              "      <td>bikes:007</td>\n",
              "      <td>ScramBikes</td>\n",
              "      <td>WattBike</td>\n",
              "      <td>The WattBike is the best e-bike for people who still feel young at heart. It has a  Bafang 500 watt geared hub motor that can reach 20 miles per hour on both steep inclines and city streets. The lithium-ion battery, which gets nearly 40 miles per charge, has a lightweight form factor, making it easier for seniors to use. It comes fully assembled (no convoluted instructions!) and includes a sturdy helmet at no cost. The Plush saddle softens over time with use. The included Seatpost, however, i...</td>\n",
              "    </tr>\n",
              "    <tr>\n",
              "      <td></td>\n",
              "      <td>0.41</td>\n",
              "      <td>bikes:003</td>\n",
              "      <td>Nord</td>\n",
              "      <td>Chook air 5</td>\n",
              "      <td>The Chook Air 5  gives kids aged six years and older a durable and uberlight mountain bike for their first experience on tracks and easy cruising through forests and fields. The lower  top tube makes it easy to mount and dismount in any situation, giving your kids greater safety on the trails. The Chook Air 5 is the perfect intro to mountain biking.</td>\n",
              "    </tr>\n",
              "    <tr>\n",
              "      <td>Cheap Mountain bike for kids</td>\n",
              "      <td>0.49</td>\n",
              "      <td>bikes:003</td>\n",
              "      <td>Nord</td>\n",
              "      <td>Chook air 5</td>\n",
              "      <td>The Chook Air 5  gives kids aged six years and older a durable and uberlight mountain bike for their first experience on tracks and easy cruising through forests and fields. The lower  top tube makes it easy to mount and dismount in any situation, giving your kids greater safety on the trails. The Chook Air 5 is the perfect intro to mountain biking.</td>\n",
              "    </tr>\n",
              "    <tr>\n",
              "      <td></td>\n",
              "      <td>0.45</td>\n",
              "      <td>bikes:010</td>\n",
              "      <td>nHill</td>\n",
              "      <td>Summit</td>\n",
              "      <td>This budget mountain bike from nHill performs well both on bike paths and on the trail. The fork with 100mm of travel absorbs rough terrain. Fat Kenda Booster tires give you grip in corners and on wet trails. The Shimano Tourney drivetrain offered enough gears for finding a comfortable pace to ride uphill, and the Tektro hydraulic disc brakes break smoothly. Whether you want an affordable bike that you can take to work, but also take trail riding on the weekends or you’re just after a stable,...</td>\n",
              "    </tr>\n",
              "    <tr>\n",
              "      <td></td>\n",
              "      <td>0.39</td>\n",
              "      <td>bikes:001</td>\n",
              "      <td>Velorim</td>\n",
              "      <td>Jigger</td>\n",
              "      <td>Small and powerful, the Jigger is the best ride for the smallest of tikes! This is the tiniest kids’ pedal bike on the market available without a coaster brake, the Jigger is the vehicle of choice for the rare tenacious little rider raring to go. We say rare because this smokin’ little bike is not ideal for a nervous first-time rider, but it’s a true giddy up for a true speedster. The Jigger is a 12 inch lightweight kids bicycle and it will meet your little one’s need for speed. It’s a single...</td>\n",
              "    </tr>\n",
              "    <tr>\n",
              "      <td>Comfortable city bike</td>\n",
              "      <td>0.45</td>\n",
              "      <td>bikes:007</td>\n",
              "      <td>ScramBikes</td>\n",
              "      <td>WattBike</td>\n",
              "      <td>The WattBike is the best e-bike for people who still feel young at heart. It has a  Bafang 500 watt geared hub motor that can reach 20 miles per hour on both steep inclines and city streets. The lithium-ion battery, which gets nearly 40 miles per charge, has a lightweight form factor, making it easier for seniors to use. It comes fully assembled (no convoluted instructions!) and includes a sturdy helmet at no cost. The Plush saddle softens over time with use. The included Seatpost, however, i...</td>\n",
              "    </tr>\n",
              "    <tr>\n",
              "      <td></td>\n",
              "      <td>0.44</td>\n",
              "      <td>bikes:006</td>\n",
              "      <td>Breakout</td>\n",
              "      <td>XBN 2.1 Alloy</td>\n",
              "      <td>The XBN 2.1 Alloy is our entry-level road bike – but that’s not to say that it’s a basic machine. With an internal weld aluminium frame, a full carbon fork, and the slick-shifting Claris gears from Shimano’s, this is a bike which doesn’t break the bank and delivers craved performance. The 6061 alloy frame is triple-butted which ensures a lighter weight and smoother ride. And it’s comfortable with dropped seat stays and the carbon fork. The carefully crafted 50-34 tooth chainset and 11-32 toot...</td>\n",
              "    </tr>\n",
              "    <tr>\n",
              "      <td></td>\n",
              "      <td>0.42</td>\n",
              "      <td>bikes:008</td>\n",
              "      <td>Peaknetic</td>\n",
              "      <td>Soothe Electric bike</td>\n",
              "      <td>The Soothe is an everyday electric bike, from the makers of Exercycle  bikes, that conveys style while you get around the city. The Soothe lives up to its name by keeping your posture upright and relaxed for the ride ahead, keeping those aches and pains from riding at bay. It includes a low-step frame , our memory foam seat, bump-resistant shocks and conveniently placed thumb throttle.</td>\n",
              "    </tr>\n",
              "    <tr>\n",
              "      <td>Comfortable commuter bike</td>\n",
              "      <td>0.47</td>\n",
              "      <td>bikes:008</td>\n",
              "      <td>Peaknetic</td>\n",
              "      <td>Soothe Electric bike</td>\n",
              "      <td>The Soothe is an everyday electric bike, from the makers of Exercycle  bikes, that conveys style while you get around the city. The Soothe lives up to its name by keeping your posture upright and relaxed for the ride ahead, keeping those aches and pains from riding at bay. It includes a low-step frame , our memory foam seat, bump-resistant shocks and conveniently placed thumb throttle.</td>\n",
              "    </tr>\n",
              "    <tr>\n",
              "      <td></td>\n",
              "      <td>0.47</td>\n",
              "      <td>bikes:007</td>\n",
              "      <td>ScramBikes</td>\n",
              "      <td>WattBike</td>\n",
              "      <td>The WattBike is the best e-bike for people who still feel young at heart. It has a  Bafang 500 watt geared hub motor that can reach 20 miles per hour on both steep inclines and city streets. The lithium-ion battery, which gets nearly 40 miles per charge, has a lightweight form factor, making it easier for seniors to use. It comes fully assembled (no convoluted instructions!) and includes a sturdy helmet at no cost. The Plush saddle softens over time with use. The included Seatpost, however, i...</td>\n",
              "    </tr>\n",
              "    <tr>\n",
              "      <td></td>\n",
              "      <td>0.41</td>\n",
              "      <td>bikes:006</td>\n",
              "      <td>Breakout</td>\n",
              "      <td>XBN 2.1 Alloy</td>\n",
              "      <td>The XBN 2.1 Alloy is our entry-level road bike – but that’s not to say that it’s a basic machine. With an internal weld aluminium frame, a full carbon fork, and the slick-shifting Claris gears from Shimano’s, this is a bike which doesn’t break the bank and delivers craved performance. The 6061 alloy frame is triple-butted which ensures a lighter weight and smoother ride. And it’s comfortable with dropped seat stays and the carbon fork. The carefully crafted 50-34 tooth chainset and 11-32 toot...</td>\n",
              "    </tr>\n",
              "    <tr>\n",
              "      <td>Commuter bike for people over 60</td>\n",
              "      <td>0.48</td>\n",
              "      <td>bikes:007</td>\n",
              "      <td>ScramBikes</td>\n",
              "      <td>WattBike</td>\n",
              "      <td>The WattBike is the best e-bike for people who still feel young at heart. It has a  Bafang 500 watt geared hub motor that can reach 20 miles per hour on both steep inclines and city streets. The lithium-ion battery, which gets nearly 40 miles per charge, has a lightweight form factor, making it easier for seniors to use. It comes fully assembled (no convoluted instructions!) and includes a sturdy helmet at no cost. The Plush saddle softens over time with use. The included Seatpost, however, i...</td>\n",
              "    </tr>\n",
              "    <tr>\n",
              "      <td></td>\n",
              "      <td>0.42</td>\n",
              "      <td>bikes:011</td>\n",
              "      <td>BikeShind</td>\n",
              "      <td>ThrillCycle</td>\n",
              "      <td>An artsy,  retro-inspired bicycle that’s as functional as it is pretty: The ThrillCycle steel frame offers a smooth ride. A 9-speed drivetrain has enough gears for coasting in the city, but we wouldn’t suggest taking it to the mountains. Fenders protect you from mud, and a rear basket lets you transport groceries, flowers and books. The ThrillCycle comes with a limited lifetime warranty, so this little guy will last you long past graduation.</td>\n",
              "    </tr>\n",
              "    <tr>\n",
              "      <td></td>\n",
              "      <td>0.37</td>\n",
              "      <td>bikes:006</td>\n",
              "      <td>Breakout</td>\n",
              "      <td>XBN 2.1 Alloy</td>\n",
              "      <td>The XBN 2.1 Alloy is our entry-level road bike – but that’s not to say that it’s a basic machine. With an internal weld aluminium frame, a full carbon fork, and the slick-shifting Claris gears from Shimano’s, this is a bike which doesn’t break the bank and delivers craved performance. The 6061 alloy frame is triple-butted which ensures a lighter weight and smoother ride. And it’s comfortable with dropped seat stays and the carbon fork. The carefully crafted 50-34 tooth chainset and 11-32 toot...</td>\n",
              "    </tr>\n",
              "    <tr>\n",
              "      <td>Female specific mountain bike</td>\n",
              "      <td>0.47</td>\n",
              "      <td>bikes:005</td>\n",
              "      <td>Noka Bikes</td>\n",
              "      <td>Kahuna</td>\n",
              "      <td>Whether you want to try your hand at XC racing or are looking for a lively trail bike that's just as inspiring on the climbs as it is over rougher ground, the Wilder is one heck of a bike built specifically for short women. Both the frames and components have been tweaked to include a women’s saddle, different bars and unique colourway.</td>\n",
              "    </tr>\n",
              "    <tr>\n",
              "      <td></td>\n",
              "      <td>0.39</td>\n",
              "      <td>bikes:004</td>\n",
              "      <td>Eva</td>\n",
              "      <td>Eva 291</td>\n",
              "      <td>The sister company to Nord, Eva launched in 2005 as the first and only women-dedicated bicycle brand. Designed by women for women, allEva bikes are optimized for the feminine physique using analytics from a body metrics database. If you like 29ers, try the Eva 291. It’s a brand new bike for 2022.. This full-suspension, cross-country ride has been designed for velocity. The 291 has 100mm of front and rear travel, a superlight aluminum frame and fast-rolling 29-inch wheels. Yippee!</td>\n",
              "    </tr>\n",
              "    <tr>\n",
              "      <td></td>\n",
              "      <td>0.32</td>\n",
              "      <td>bikes:010</td>\n",
              "      <td>nHill</td>\n",
              "      <td>Summit</td>\n",
              "      <td>This budget mountain bike from nHill performs well both on bike paths and on the trail. The fork with 100mm of travel absorbs rough terrain. Fat Kenda Booster tires give you grip in corners and on wet trails. The Shimano Tourney drivetrain offered enough gears for finding a comfortable pace to ride uphill, and the Tektro hydraulic disc brakes break smoothly. Whether you want an affordable bike that you can take to work, but also take trail riding on the weekends or you’re just after a stable,...</td>\n",
              "    </tr>\n",
              "    <tr>\n",
              "      <td>Good bike for college students</td>\n",
              "      <td>0.47</td>\n",
              "      <td>bikes:007</td>\n",
              "      <td>ScramBikes</td>\n",
              "      <td>WattBike</td>\n",
              "      <td>The WattBike is the best e-bike for people who still feel young at heart. It has a  Bafang 500 watt geared hub motor that can reach 20 miles per hour on both steep inclines and city streets. The lithium-ion battery, which gets nearly 40 miles per charge, has a lightweight form factor, making it easier for seniors to use. It comes fully assembled (no convoluted instructions!) and includes a sturdy helmet at no cost. The Plush saddle softens over time with use. The included Seatpost, however, i...</td>\n",
              "    </tr>\n",
              "    <tr>\n",
              "      <td></td>\n",
              "      <td>0.43</td>\n",
              "      <td>bikes:006</td>\n",
              "      <td>Breakout</td>\n",
              "      <td>XBN 2.1 Alloy</td>\n",
              "      <td>The XBN 2.1 Alloy is our entry-level road bike – but that’s not to say that it’s a basic machine. With an internal weld aluminium frame, a full carbon fork, and the slick-shifting Claris gears from Shimano’s, this is a bike which doesn’t break the bank and delivers craved performance. The 6061 alloy frame is triple-butted which ensures a lighter weight and smoother ride. And it’s comfortable with dropped seat stays and the carbon fork. The carefully crafted 50-34 tooth chainset and 11-32 toot...</td>\n",
              "    </tr>\n",
              "    <tr>\n",
              "      <td></td>\n",
              "      <td>0.40</td>\n",
              "      <td>bikes:010</td>\n",
              "      <td>nHill</td>\n",
              "      <td>Summit</td>\n",
              "      <td>This budget mountain bike from nHill performs well both on bike paths and on the trail. The fork with 100mm of travel absorbs rough terrain. Fat Kenda Booster tires give you grip in corners and on wet trails. The Shimano Tourney drivetrain offered enough gears for finding a comfortable pace to ride uphill, and the Tektro hydraulic disc brakes break smoothly. Whether you want an affordable bike that you can take to work, but also take trail riding on the weekends or you’re just after a stable,...</td>\n",
              "    </tr>\n",
              "    <tr>\n",
              "      <td>Mountain bike for beginners</td>\n",
              "      <td>0.54</td>\n",
              "      <td>bikes:010</td>\n",
              "      <td>nHill</td>\n",
              "      <td>Summit</td>\n",
              "      <td>This budget mountain bike from nHill performs well both on bike paths and on the trail. The fork with 100mm of travel absorbs rough terrain. Fat Kenda Booster tires give you grip in corners and on wet trails. The Shimano Tourney drivetrain offered enough gears for finding a comfortable pace to ride uphill, and the Tektro hydraulic disc brakes break smoothly. Whether you want an affordable bike that you can take to work, but also take trail riding on the weekends or you’re just after a stable,...</td>\n",
              "    </tr>\n",
              "    <tr>\n",
              "      <td></td>\n",
              "      <td>0.49</td>\n",
              "      <td>bikes:003</td>\n",
              "      <td>Nord</td>\n",
              "      <td>Chook air 5</td>\n",
              "      <td>The Chook Air 5  gives kids aged six years and older a durable and uberlight mountain bike for their first experience on tracks and easy cruising through forests and fields. The lower  top tube makes it easy to mount and dismount in any situation, giving your kids greater safety on the trails. The Chook Air 5 is the perfect intro to mountain biking.</td>\n",
              "    </tr>\n",
              "    <tr>\n",
              "      <td></td>\n",
              "      <td>0.42</td>\n",
              "      <td>bikes:008</td>\n",
              "      <td>Peaknetic</td>\n",
              "      <td>Soothe Electric bike</td>\n",
              "      <td>The Soothe is an everyday electric bike, from the makers of Exercycle  bikes, that conveys style while you get around the city. The Soothe lives up to its name by keeping your posture upright and relaxed for the ride ahead, keeping those aches and pains from riding at bay. It includes a low-step frame , our memory foam seat, bump-resistant shocks and conveniently placed thumb throttle.</td>\n",
              "    </tr>\n",
              "    <tr>\n",
              "      <td>Road bike for beginners</td>\n",
              "      <td>0.45</td>\n",
              "      <td>bikes:010</td>\n",
              "      <td>nHill</td>\n",
              "      <td>Summit</td>\n",
              "      <td>This budget mountain bike from nHill performs well both on bike paths and on the trail. The fork with 100mm of travel absorbs rough terrain. Fat Kenda Booster tires give you grip in corners and on wet trails. The Shimano Tourney drivetrain offered enough gears for finding a comfortable pace to ride uphill, and the Tektro hydraulic disc brakes break smoothly. Whether you want an affordable bike that you can take to work, but also take trail riding on the weekends or you’re just after a stable,...</td>\n",
              "    </tr>\n",
              "    <tr>\n",
              "      <td></td>\n",
              "      <td>0.44</td>\n",
              "      <td>bikes:008</td>\n",
              "      <td>Peaknetic</td>\n",
              "      <td>Soothe Electric bike</td>\n",
              "      <td>The Soothe is an everyday electric bike, from the makers of Exercycle  bikes, that conveys style while you get around the city. The Soothe lives up to its name by keeping your posture upright and relaxed for the ride ahead, keeping those aches and pains from riding at bay. It includes a low-step frame , our memory foam seat, bump-resistant shocks and conveniently placed thumb throttle.</td>\n",
              "    </tr>\n",
              "    <tr>\n",
              "      <td></td>\n",
              "      <td>0.44</td>\n",
              "      <td>bikes:011</td>\n",
              "      <td>BikeShind</td>\n",
              "      <td>ThrillCycle</td>\n",
              "      <td>An artsy,  retro-inspired bicycle that’s as functional as it is pretty: The ThrillCycle steel frame offers a smooth ride. A 9-speed drivetrain has enough gears for coasting in the city, but we wouldn’t suggest taking it to the mountains. Fenders protect you from mud, and a rear basket lets you transport groceries, flowers and books. The ThrillCycle comes with a limited lifetime warranty, so this little guy will last you long past graduation.</td>\n",
              "    </tr>\n",
              "    <tr>\n",
              "      <td>Vintage bike</td>\n",
              "      <td>0.42</td>\n",
              "      <td>bikes:011</td>\n",
              "      <td>BikeShind</td>\n",
              "      <td>ThrillCycle</td>\n",
              "      <td>An artsy,  retro-inspired bicycle that’s as functional as it is pretty: The ThrillCycle steel frame offers a smooth ride. A 9-speed drivetrain has enough gears for coasting in the city, but we wouldn’t suggest taking it to the mountains. Fenders protect you from mud, and a rear basket lets you transport groceries, flowers and books. The ThrillCycle comes with a limited lifetime warranty, so this little guy will last you long past graduation.</td>\n",
              "    </tr>\n",
              "    <tr>\n",
              "      <td></td>\n",
              "      <td>0.41</td>\n",
              "      <td>bikes:007</td>\n",
              "      <td>ScramBikes</td>\n",
              "      <td>WattBike</td>\n",
              "      <td>The WattBike is the best e-bike for people who still feel young at heart. It has a  Bafang 500 watt geared hub motor that can reach 20 miles per hour on both steep inclines and city streets. The lithium-ion battery, which gets nearly 40 miles per charge, has a lightweight form factor, making it easier for seniors to use. It comes fully assembled (no convoluted instructions!) and includes a sturdy helmet at no cost. The Plush saddle softens over time with use. The included Seatpost, however, i...</td>\n",
              "    </tr>\n",
              "    <tr>\n",
              "      <td></td>\n",
              "      <td>0.35</td>\n",
              "      <td>bikes:006</td>\n",
              "      <td>Breakout</td>\n",
              "      <td>XBN 2.1 Alloy</td>\n",
              "      <td>The XBN 2.1 Alloy is our entry-level road bike – but that’s not to say that it’s a basic machine. With an internal weld aluminium frame, a full carbon fork, and the slick-shifting Claris gears from Shimano’s, this is a bike which doesn’t break the bank and delivers craved performance. The 6061 alloy frame is triple-butted which ensures a lighter weight and smoother ride. And it’s comfortable with dropped seat stays and the carbon fork. The carefully crafted 50-34 tooth chainset and 11-32 toot...</td>\n",
              "    </tr>\n",
              "  </tbody>\n",
              "</table>"
            ],
            "text/plain": [
              "<IPython.core.display.HTML object>"
            ]
          },
          "metadata": {},
          "output_type": "display_data"
        }
      ],
      "source": [
        "create_query_table(query, queries, encoded_queries)"
      ]
    },
    {
      "attachments": {},
      "cell_type": "markdown",
      "metadata": {},
      "source": [
        "#### Hybrid Queries\n",
        "\n",
        "\"Pure KNN\" queries, as in the previous section, evaluate a query against the whole space of vectors in a data collection. The larger the collection, the more computationally expensive the nearest neighbors' search will be, but in the real world, unstructured data does not live in isolation, and users expecting rich search experiences need to be able to search via a combination of structured and unstructured data. \n",
        "\n",
        "For example, users might arrive at your search interface with a brand preference in mind for the bikes dataset. Redis VSS queries can use this information to pre-filter the search space using a \"primary filter query\". In the following query definition, we pre-filter using the `brand` to consider only `Peaknetic` brand bikes. Notice that, before our primary filter query was `(*)`, AKA everything, but now we can narrow the search space using `(@brand:Peaknetic)` before the KNN query:"
      ]
    },
    {
      "cell_type": "code",
      "execution_count": 30,
      "metadata": {},
      "outputs": [],
      "source": [
        "hybrid_query = (\n",
        "    Query('(@brand:Peaknetic)=>[KNN 3 @vector $query_vector AS vector_score]')\n",
        "     .sort_by('vector_score')\n",
        "     .return_fields('vector_score', 'id', 'brand', 'model', 'description')\n",
        "     .dialect(2)\n",
        ")"
      ]
    },
    {
      "attachments": {},
      "cell_type": "markdown",
      "metadata": {},
      "source": [
        "Filtering by the `Peaknetic` brand, for which there are 2 bikes in our collection, we can see the results returned for each of the query prompts. The query with the highest returned similarity score is \"Comfortable commuter bike\", followed by \"Road bike for beginners\". By filtering by brand, we fulfill the users' preferences and reduce the KNN search space by %80."
      ]
    },
    {
      "cell_type": "code",
      "execution_count": 31,
      "metadata": {},
      "outputs": [
        {
          "data": {
            "text/html": [
              "<table border=\"1\" class=\"dataframe\">\n",
              "  <thead>\n",
              "    <tr style=\"text-align: right;\">\n",
              "      <th>query</th>\n",
              "      <th>score</th>\n",
              "      <th>id</th>\n",
              "      <th>brand</th>\n",
              "      <th>model</th>\n",
              "      <th>description</th>\n",
              "    </tr>\n",
              "  </thead>\n",
              "  <tbody>\n",
              "    <tr>\n",
              "      <td>Best Mountain bikes for kids</td>\n",
              "      <td>0.30</td>\n",
              "      <td>bikes:008</td>\n",
              "      <td>Peaknetic</td>\n",
              "      <td>Soothe Electric bike</td>\n",
              "      <td>The Soothe is an everyday electric bike, from the makers of Exercycle  bikes, that conveys style while you get around the city. The Soothe lives up to its name by keeping your posture upright and relaxed for the ride ahead, keeping those aches and pains from riding at bay. It includes a low-step frame , our memory foam seat, bump-resistant shocks and conveniently placed thumb throttle.</td>\n",
              "    </tr>\n",
              "    <tr>\n",
              "      <td></td>\n",
              "      <td>0.23</td>\n",
              "      <td>bikes:009</td>\n",
              "      <td>Peaknetic</td>\n",
              "      <td>Secto</td>\n",
              "      <td>If you struggle with stiff fingers or a kinked neck or back after a few minutes on the road, this lightweight, aluminum bike alleviates those issues and allows you to enjoy the ride. From the ergonomic grips to the lumbar-supporting seat position, the Roll Low-Entry offers incredible comfort. The rear-inclined seat tube facilitates stability by allowing you to put a foot on the ground to balance at a stop, and the low step-over frame makes it accessible for all ability and mobility levels. Th...</td>\n",
              "    </tr>\n",
              "    <tr>\n",
              "      <td>Bike for small kids</td>\n",
              "      <td>0.37</td>\n",
              "      <td>bikes:008</td>\n",
              "      <td>Peaknetic</td>\n",
              "      <td>Soothe Electric bike</td>\n",
              "      <td>The Soothe is an everyday electric bike, from the makers of Exercycle  bikes, that conveys style while you get around the city. The Soothe lives up to its name by keeping your posture upright and relaxed for the ride ahead, keeping those aches and pains from riding at bay. It includes a low-step frame , our memory foam seat, bump-resistant shocks and conveniently placed thumb throttle.</td>\n",
              "    </tr>\n",
              "    <tr>\n",
              "      <td></td>\n",
              "      <td>0.25</td>\n",
              "      <td>bikes:009</td>\n",
              "      <td>Peaknetic</td>\n",
              "      <td>Secto</td>\n",
              "      <td>If you struggle with stiff fingers or a kinked neck or back after a few minutes on the road, this lightweight, aluminum bike alleviates those issues and allows you to enjoy the ride. From the ergonomic grips to the lumbar-supporting seat position, the Roll Low-Entry offers incredible comfort. The rear-inclined seat tube facilitates stability by allowing you to put a foot on the ground to balance at a stop, and the low step-over frame makes it accessible for all ability and mobility levels. Th...</td>\n",
              "    </tr>\n",
              "    <tr>\n",
              "      <td>Cheap Mountain bike for kids</td>\n",
              "      <td>0.21</td>\n",
              "      <td>bikes:008</td>\n",
              "      <td>Peaknetic</td>\n",
              "      <td>Soothe Electric bike</td>\n",
              "      <td>The Soothe is an everyday electric bike, from the makers of Exercycle  bikes, that conveys style while you get around the city. The Soothe lives up to its name by keeping your posture upright and relaxed for the ride ahead, keeping those aches and pains from riding at bay. It includes a low-step frame , our memory foam seat, bump-resistant shocks and conveniently placed thumb throttle.</td>\n",
              "    </tr>\n",
              "    <tr>\n",
              "      <td></td>\n",
              "      <td>0.12</td>\n",
              "      <td>bikes:009</td>\n",
              "      <td>Peaknetic</td>\n",
              "      <td>Secto</td>\n",
              "      <td>If you struggle with stiff fingers or a kinked neck or back after a few minutes on the road, this lightweight, aluminum bike alleviates those issues and allows you to enjoy the ride. From the ergonomic grips to the lumbar-supporting seat position, the Roll Low-Entry offers incredible comfort. The rear-inclined seat tube facilitates stability by allowing you to put a foot on the ground to balance at a stop, and the low step-over frame makes it accessible for all ability and mobility levels. Th...</td>\n",
              "    </tr>\n",
              "    <tr>\n",
              "      <td>Comfortable city bike</td>\n",
              "      <td>0.42</td>\n",
              "      <td>bikes:008</td>\n",
              "      <td>Peaknetic</td>\n",
              "      <td>Soothe Electric bike</td>\n",
              "      <td>The Soothe is an everyday electric bike, from the makers of Exercycle  bikes, that conveys style while you get around the city. The Soothe lives up to its name by keeping your posture upright and relaxed for the ride ahead, keeping those aches and pains from riding at bay. It includes a low-step frame , our memory foam seat, bump-resistant shocks and conveniently placed thumb throttle.</td>\n",
              "    </tr>\n",
              "    <tr>\n",
              "      <td></td>\n",
              "      <td>0.36</td>\n",
              "      <td>bikes:009</td>\n",
              "      <td>Peaknetic</td>\n",
              "      <td>Secto</td>\n",
              "      <td>If you struggle with stiff fingers or a kinked neck or back after a few minutes on the road, this lightweight, aluminum bike alleviates those issues and allows you to enjoy the ride. From the ergonomic grips to the lumbar-supporting seat position, the Roll Low-Entry offers incredible comfort. The rear-inclined seat tube facilitates stability by allowing you to put a foot on the ground to balance at a stop, and the low step-over frame makes it accessible for all ability and mobility levels. Th...</td>\n",
              "    </tr>\n",
              "    <tr>\n",
              "      <td>Comfortable commuter bike</td>\n",
              "      <td>0.47</td>\n",
              "      <td>bikes:008</td>\n",
              "      <td>Peaknetic</td>\n",
              "      <td>Soothe Electric bike</td>\n",
              "      <td>The Soothe is an everyday electric bike, from the makers of Exercycle  bikes, that conveys style while you get around the city. The Soothe lives up to its name by keeping your posture upright and relaxed for the ride ahead, keeping those aches and pains from riding at bay. It includes a low-step frame , our memory foam seat, bump-resistant shocks and conveniently placed thumb throttle.</td>\n",
              "    </tr>\n",
              "    <tr>\n",
              "      <td></td>\n",
              "      <td>0.38</td>\n",
              "      <td>bikes:009</td>\n",
              "      <td>Peaknetic</td>\n",
              "      <td>Secto</td>\n",
              "      <td>If you struggle with stiff fingers or a kinked neck or back after a few minutes on the road, this lightweight, aluminum bike alleviates those issues and allows you to enjoy the ride. From the ergonomic grips to the lumbar-supporting seat position, the Roll Low-Entry offers incredible comfort. The rear-inclined seat tube facilitates stability by allowing you to put a foot on the ground to balance at a stop, and the low step-over frame makes it accessible for all ability and mobility levels. Th...</td>\n",
              "    </tr>\n",
              "    <tr>\n",
              "      <td>Commuter bike for people over 60</td>\n",
              "      <td>0.36</td>\n",
              "      <td>bikes:008</td>\n",
              "      <td>Peaknetic</td>\n",
              "      <td>Soothe Electric bike</td>\n",
              "      <td>The Soothe is an everyday electric bike, from the makers of Exercycle  bikes, that conveys style while you get around the city. The Soothe lives up to its name by keeping your posture upright and relaxed for the ride ahead, keeping those aches and pains from riding at bay. It includes a low-step frame , our memory foam seat, bump-resistant shocks and conveniently placed thumb throttle.</td>\n",
              "    </tr>\n",
              "    <tr>\n",
              "      <td></td>\n",
              "      <td>0.33</td>\n",
              "      <td>bikes:009</td>\n",
              "      <td>Peaknetic</td>\n",
              "      <td>Secto</td>\n",
              "      <td>If you struggle with stiff fingers or a kinked neck or back after a few minutes on the road, this lightweight, aluminum bike alleviates those issues and allows you to enjoy the ride. From the ergonomic grips to the lumbar-supporting seat position, the Roll Low-Entry offers incredible comfort. The rear-inclined seat tube facilitates stability by allowing you to put a foot on the ground to balance at a stop, and the low step-over frame makes it accessible for all ability and mobility levels. Th...</td>\n",
              "    </tr>\n",
              "    <tr>\n",
              "      <td>Female specific mountain bike</td>\n",
              "      <td>0.23</td>\n",
              "      <td>bikes:009</td>\n",
              "      <td>Peaknetic</td>\n",
              "      <td>Secto</td>\n",
              "      <td>If you struggle with stiff fingers or a kinked neck or back after a few minutes on the road, this lightweight, aluminum bike alleviates those issues and allows you to enjoy the ride. From the ergonomic grips to the lumbar-supporting seat position, the Roll Low-Entry offers incredible comfort. The rear-inclined seat tube facilitates stability by allowing you to put a foot on the ground to balance at a stop, and the low step-over frame makes it accessible for all ability and mobility levels. Th...</td>\n",
              "    </tr>\n",
              "    <tr>\n",
              "      <td></td>\n",
              "      <td>0.21</td>\n",
              "      <td>bikes:008</td>\n",
              "      <td>Peaknetic</td>\n",
              "      <td>Soothe Electric bike</td>\n",
              "      <td>The Soothe is an everyday electric bike, from the makers of Exercycle  bikes, that conveys style while you get around the city. The Soothe lives up to its name by keeping your posture upright and relaxed for the ride ahead, keeping those aches and pains from riding at bay. It includes a low-step frame , our memory foam seat, bump-resistant shocks and conveniently placed thumb throttle.</td>\n",
              "    </tr>\n",
              "    <tr>\n",
              "      <td>Good bike for college students</td>\n",
              "      <td>0.34</td>\n",
              "      <td>bikes:009</td>\n",
              "      <td>Peaknetic</td>\n",
              "      <td>Secto</td>\n",
              "      <td>If you struggle with stiff fingers or a kinked neck or back after a few minutes on the road, this lightweight, aluminum bike alleviates those issues and allows you to enjoy the ride. From the ergonomic grips to the lumbar-supporting seat position, the Roll Low-Entry offers incredible comfort. The rear-inclined seat tube facilitates stability by allowing you to put a foot on the ground to balance at a stop, and the low step-over frame makes it accessible for all ability and mobility levels. Th...</td>\n",
              "    </tr>\n",
              "    <tr>\n",
              "      <td></td>\n",
              "      <td>0.24</td>\n",
              "      <td>bikes:008</td>\n",
              "      <td>Peaknetic</td>\n",
              "      <td>Soothe Electric bike</td>\n",
              "      <td>The Soothe is an everyday electric bike, from the makers of Exercycle  bikes, that conveys style while you get around the city. The Soothe lives up to its name by keeping your posture upright and relaxed for the ride ahead, keeping those aches and pains from riding at bay. It includes a low-step frame , our memory foam seat, bump-resistant shocks and conveniently placed thumb throttle.</td>\n",
              "    </tr>\n",
              "    <tr>\n",
              "      <td>Mountain bike for beginners</td>\n",
              "      <td>0.42</td>\n",
              "      <td>bikes:008</td>\n",
              "      <td>Peaknetic</td>\n",
              "      <td>Soothe Electric bike</td>\n",
              "      <td>The Soothe is an everyday electric bike, from the makers of Exercycle  bikes, that conveys style while you get around the city. The Soothe lives up to its name by keeping your posture upright and relaxed for the ride ahead, keeping those aches and pains from riding at bay. It includes a low-step frame , our memory foam seat, bump-resistant shocks and conveniently placed thumb throttle.</td>\n",
              "    </tr>\n",
              "    <tr>\n",
              "      <td></td>\n",
              "      <td>0.29</td>\n",
              "      <td>bikes:009</td>\n",
              "      <td>Peaknetic</td>\n",
              "      <td>Secto</td>\n",
              "      <td>If you struggle with stiff fingers or a kinked neck or back after a few minutes on the road, this lightweight, aluminum bike alleviates those issues and allows you to enjoy the ride. From the ergonomic grips to the lumbar-supporting seat position, the Roll Low-Entry offers incredible comfort. The rear-inclined seat tube facilitates stability by allowing you to put a foot on the ground to balance at a stop, and the low step-over frame makes it accessible for all ability and mobility levels. Th...</td>\n",
              "    </tr>\n",
              "    <tr>\n",
              "      <td>Road bike for beginners</td>\n",
              "      <td>0.44</td>\n",
              "      <td>bikes:008</td>\n",
              "      <td>Peaknetic</td>\n",
              "      <td>Soothe Electric bike</td>\n",
              "      <td>The Soothe is an everyday electric bike, from the makers of Exercycle  bikes, that conveys style while you get around the city. The Soothe lives up to its name by keeping your posture upright and relaxed for the ride ahead, keeping those aches and pains from riding at bay. It includes a low-step frame , our memory foam seat, bump-resistant shocks and conveniently placed thumb throttle.</td>\n",
              "    </tr>\n",
              "    <tr>\n",
              "      <td></td>\n",
              "      <td>0.29</td>\n",
              "      <td>bikes:009</td>\n",
              "      <td>Peaknetic</td>\n",
              "      <td>Secto</td>\n",
              "      <td>If you struggle with stiff fingers or a kinked neck or back after a few minutes on the road, this lightweight, aluminum bike alleviates those issues and allows you to enjoy the ride. From the ergonomic grips to the lumbar-supporting seat position, the Roll Low-Entry offers incredible comfort. The rear-inclined seat tube facilitates stability by allowing you to put a foot on the ground to balance at a stop, and the low step-over frame makes it accessible for all ability and mobility levels. Th...</td>\n",
              "    </tr>\n",
              "    <tr>\n",
              "      <td>Vintage bike</td>\n",
              "      <td>0.31</td>\n",
              "      <td>bikes:008</td>\n",
              "      <td>Peaknetic</td>\n",
              "      <td>Soothe Electric bike</td>\n",
              "      <td>The Soothe is an everyday electric bike, from the makers of Exercycle  bikes, that conveys style while you get around the city. The Soothe lives up to its name by keeping your posture upright and relaxed for the ride ahead, keeping those aches and pains from riding at bay. It includes a low-step frame , our memory foam seat, bump-resistant shocks and conveniently placed thumb throttle.</td>\n",
              "    </tr>\n",
              "    <tr>\n",
              "      <td></td>\n",
              "      <td>0.17</td>\n",
              "      <td>bikes:009</td>\n",
              "      <td>Peaknetic</td>\n",
              "      <td>Secto</td>\n",
              "      <td>If you struggle with stiff fingers or a kinked neck or back after a few minutes on the road, this lightweight, aluminum bike alleviates those issues and allows you to enjoy the ride. From the ergonomic grips to the lumbar-supporting seat position, the Roll Low-Entry offers incredible comfort. The rear-inclined seat tube facilitates stability by allowing you to put a foot on the ground to balance at a stop, and the low step-over frame makes it accessible for all ability and mobility levels. Th...</td>\n",
              "    </tr>\n",
              "  </tbody>\n",
              "</table>"
            ],
            "text/plain": [
              "<IPython.core.display.HTML object>"
            ]
          },
          "metadata": {},
          "output_type": "display_data"
        }
      ],
      "source": [
        "create_query_table(hybrid_query, queries, encoded_queries)"
      ]
    },
    {
      "attachments": {},
      "cell_type": "markdown",
      "metadata": {},
      "source": [
        "#### Creating a VSS Range Query \n",
        "\n",
        "Range queries in Vector Similarity Search (VSS) involve retrieving items within a specific distance from a query vector. In this case, we consider \"distance\" to be the measure of similarity we've used to build our search indices; the smaller the distance, the more similar the items.\n",
        "\n",
        "Let's say you want to find the bikes whose descriptions are within a certain distance from a query vector. We can use a range query to achieve this.\n",
        "For example, the query command to return the top 4 documents within a 0.55 radius of a vectorized query would be as follows: \n",
        "\n",
        "```\n",
        "1️⃣ FT.SEARCH idx:bikes_vss \n",
        "2️⃣   @vector:[VECTOR_RANGE $range $query_vector]=>{$YIELD_DISTANCE_AS: vector_score} \n",
        "3️⃣   SORTBY vector_score ASC\n",
        "4️⃣   LIMIT 0 4 \n",
        "5️⃣   DIALECT 2 \n",
        "6️⃣   PARAMS 4 range 0.55 query_vector \"\\x9d|\\x99>bV#\\xbfm\\x86\\x8a\\xbd\\xa7~$?*....\"\n",
        "```\n",
        "\n",
        "Where:\n",
        "\n",
        "- 1️⃣ We use the `FT.SEARCH` command with our `idx:bikes_vss`.\n",
        "- 2️⃣ and filter by the `vector` using the `VECTOR_RANGE` operator pasing the `$range` parameter, yield the vector distance between the vector field and the query result in a field named `vector_score`.\n",
        "- 3️⃣ We sort the results by the yielded `vector_score`.\n",
        "- 4️⃣ Limit the results to at most 4.\n",
        "- 5️⃣ Once again, we set the RediSearch dialect to `2` to enable VSS functionality.\n",
        "- 6️⃣ Finally we set the parameter values, `range` (`$range`) to `0.55` and the `query_vector` (`$query_vector`) to the encoded vectorized query. \n",
        "\n",
        "The equivalent Python query definition is shown below:"
      ]
    },
    {
      "cell_type": "code",
      "execution_count": 32,
      "metadata": {},
      "outputs": [],
      "source": [
        "range_query = (\n",
        "    Query('@vector:[VECTOR_RANGE $range $query_vector]=>{$YIELD_DISTANCE_AS: vector_score}') \n",
        "    .sort_by('vector_score')\n",
        "    .return_fields('vector_score', 'id', 'brand', 'model', 'description')\n",
        "    .paging(0, 4)\n",
        "    .dialect(2)\n",
        ")"
      ]
    },
    {
      "attachments": {},
      "cell_type": "markdown",
      "metadata": {},
      "source": [
        "Let's run the first query prompt in our collection of queries, \"Bike for small kids\", using the VSS range query defined (`range_query`). We can use the `create_query_table` utility function to execute the query passing the extra parameter `$range` as a dictionary:"
      ]
    },
    {
      "cell_type": "code",
      "execution_count": 35,
      "metadata": {},
      "outputs": [
        {
          "data": {
            "text/html": [
              "<table border=\"1\" class=\"dataframe\">\n",
              "  <thead>\n",
              "    <tr style=\"text-align: right;\">\n",
              "      <th>query</th>\n",
              "      <th>score</th>\n",
              "      <th>id</th>\n",
              "      <th>brand</th>\n",
              "      <th>model</th>\n",
              "      <th>description</th>\n",
              "    </tr>\n",
              "  </thead>\n",
              "  <tbody>\n",
              "    <tr>\n",
              "      <td>Bike for small kids</td>\n",
              "      <td>0.52</td>\n",
              "      <td>bikes:001</td>\n",
              "      <td>Velorim</td>\n",
              "      <td>Jigger</td>\n",
              "      <td>Small and powerful, the Jigger is the best ride for the smallest of tikes! This is the tiniest kids’ pedal bike on the market available without a coaster brake, the Jigger is the vehicle of choice for the rare tenacious little rider raring to go. We say rare because this smokin’ little bike is not ideal for a nervous first-time rider, but it’s a true giddy up for a true speedster. The Jigger is a 12 inch lightweight kids bicycle and it will meet your little one’s need for speed. It’s a single...</td>\n",
              "    </tr>\n",
              "    <tr>\n",
              "      <td></td>\n",
              "      <td>0.45</td>\n",
              "      <td>bikes:007</td>\n",
              "      <td>ScramBikes</td>\n",
              "      <td>WattBike</td>\n",
              "      <td>The WattBike is the best e-bike for people who still feel young at heart. It has a  Bafang 500 watt geared hub motor that can reach 20 miles per hour on both steep inclines and city streets. The lithium-ion battery, which gets nearly 40 miles per charge, has a lightweight form factor, making it easier for seniors to use. It comes fully assembled (no convoluted instructions!) and includes a sturdy helmet at no cost. The Plush saddle softens over time with use. The included Seatpost, however, i...</td>\n",
              "    </tr>\n",
              "  </tbody>\n",
              "</table>"
            ],
            "text/plain": [
              "<IPython.core.display.HTML object>"
            ]
          },
          "metadata": {},
          "output_type": "display_data"
        }
      ],
      "source": [
        "create_query_table(range_query, queries[:1], encoded_queries[:1], {'range': 0.55})"
      ]
    },
    {
      "attachments": {},
      "cell_type": "markdown",
      "metadata": {},
      "source": [
        "The query returns two bikes in the specified range of our vectorized query, both with scores at or below `0.55`."
      ]
    },
    {
      "attachments": {},
      "cell_type": "markdown",
      "metadata": {},
      "source": [
        "## Wrapping Up\n",
        "\n",
        "In this guide, we learned how Redis, using the Redis Stack distribution, provides powerful search capabilities over structured and unstructured data. Redis support for vector data can enrich your users' search experiences. \n",
        "\n",
        "The references below can help you learn more about Redis search capabilities:\n",
        "* https://redis.io/docs/stack/search/\n",
        "* https://redis.io/docs/stack/search/indexing_json/"
      ]
    }
  ],
  "metadata": {
    "colab": {
      "provenance": []
    },
    "gpuClass": "standard",
    "kernelspec": {
      "display_name": "Python 3",
      "name": "python3"
    },
    "language_info": {
      "codemirror_mode": {
        "name": "ipython",
        "version": 3
      },
      "file_extension": ".py",
      "mimetype": "text/x-python",
      "name": "python",
      "nbconvert_exporter": "python",
      "pygments_lexer": "ipython3",
      "version": "3.9.12"
    }
  },
  "nbformat": 4,
  "nbformat_minor": 0
}
